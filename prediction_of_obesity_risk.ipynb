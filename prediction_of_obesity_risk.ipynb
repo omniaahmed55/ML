{
  "metadata": {
    "kernelspec": {
      "language": "python",
      "display_name": "Python 3",
      "name": "python3"
    },
    "language_info": {
      "name": "python",
      "version": "3.10.14",
      "mimetype": "text/x-python",
      "codemirror_mode": {
        "name": "ipython",
        "version": 3
      },
      "pygments_lexer": "ipython3",
      "nbconvert_exporter": "python",
      "file_extension": ".py"
    },
    "kaggle": {
      "accelerator": "none",
      "dataSources": [
        {
          "sourceId": 68479,
          "databundleVersionId": 7609535,
          "sourceType": "competition"
        }
      ],
      "dockerImageVersionId": 30804,
      "isInternetEnabled": true,
      "language": "python",
      "sourceType": "notebook",
      "isGpuEnabled": false
    },
    "colab": {
      "name": "prediction of obesity risk",
      "provenance": [],
      "include_colab_link": true
    }
  },
  "nbformat_minor": 0,
  "nbformat": 4,
  "cells": [
    {
      "cell_type": "markdown",
      "metadata": {
        "id": "view-in-github",
        "colab_type": "text"
      },
      "source": [
        "<a href=\"https://colab.research.google.com/github/omniaahmed55/ML/blob/main/prediction_of_obesity_risk.ipynb\" target=\"_parent\"><img src=\"https://colab.research.google.com/assets/colab-badge.svg\" alt=\"Open In Colab\"/></a>"
      ]
    },
    {
      "source": [
        "# IMPORTANT: SOME KAGGLE DATA SOURCES ARE PRIVATE\n",
        "# RUN THIS CELL IN ORDER TO IMPORT YOUR KAGGLE DATA SOURCES.\n",
        "import kagglehub\n",
        "kagglehub.login()\n"
      ],
      "metadata": {
        "id": "62dvKoaHr2k0"
      },
      "cell_type": "code",
      "outputs": [],
      "execution_count": null
    },
    {
      "source": [
        "# IMPORTANT: RUN THIS CELL IN ORDER TO IMPORT YOUR KAGGLE DATA SOURCES,\n",
        "# THEN FEEL FREE TO DELETE THIS CELL.\n",
        "# NOTE: THIS NOTEBOOK ENVIRONMENT DIFFERS FROM KAGGLE'S PYTHON\n",
        "# ENVIRONMENT SO THERE MAY BE MISSING LIBRARIES USED BY YOUR\n",
        "# NOTEBOOK.\n",
        "\n",
        "playground_series_s4e2_path = kagglehub.competition_download('playground-series-s4e2')\n",
        "\n",
        "print('Data source import complete.')\n"
      ],
      "metadata": {
        "id": "4va2jvoIr2k3"
      },
      "cell_type": "code",
      "outputs": [],
      "execution_count": null
    },
    {
      "cell_type": "code",
      "source": [
        "# This Python 3 environment comes with many helpful analytics libraries installed\n",
        "# It is defined by the kaggle/python Docker image: https://github.com/kaggle/docker-python\n",
        "# For example, here's several helpful packages to load\n",
        "\n",
        "import numpy as np # linear algebra\n",
        "import pandas as pd # data processing, CSV file I/O (e.g. pd.read_csv)\n",
        "\n",
        "# Input data files are available in the read-only \"../input/\" directory\n",
        "# For example, running this (by clicking run or pressing Shift+Enter) will list all files under the input directory\n",
        "\n",
        "import os\n",
        "for dirname, _, filenames in os.walk('/kaggle/input'):\n",
        "    for filename in filenames:\n",
        "        print(os.path.join(dirname, filename))\n",
        "\n",
        "# You can write up to 20GB to the current directory (/kaggle/working/) that gets preserved as output when you create a version using \"Save & Run All\"\n",
        "# You can also write temporary files to /kaggle/temp/, but they won't be saved outside of the current session"
      ],
      "metadata": {
        "_uuid": "8f2839f25d086af736a60e9eeb907d3b93b6e0e5",
        "_cell_guid": "b1076dfc-b9ad-4769-8c92-a6c4dae69d19",
        "trusted": true,
        "id": "d-Iy7zr9r2k3"
      },
      "outputs": [],
      "execution_count": null
    },
    {
      "cell_type": "code",
      "source": [],
      "metadata": {
        "trusted": true,
        "id": "Et7XXqayr2k4"
      },
      "outputs": [],
      "execution_count": null
    },
    {
      "cell_type": "code",
      "source": [
        "import pandas as pd\n",
        "import numpy as np\n",
        "import seaborn as sns\n",
        "import matplotlib.pyplot as plt\n",
        "\n",
        "from sklearn.model_selection import train_test_split, GridSearchCV\n",
        "from sklearn.metrics import classification_report\n",
        "\n",
        "from sklearn.preprocessing import MinMaxScaler,LabelEncoder,StandardScaler\n",
        "from sklearn.ensemble import RandomForestClassifier,GradientBoostingClassifier\n",
        "from sklearn.svm import SVC\n",
        "from xgboost import XGBClassifier\n",
        "from sklearn.neighbors import KNeighborsClassifier\n",
        "import warnings\n",
        "warnings.filterwarnings(\"ignore\")\n"
      ],
      "metadata": {
        "trusted": true,
        "execution": {
          "iopub.status.busy": "2024-12-18T18:57:57.459126Z",
          "iopub.execute_input": "2024-12-18T18:57:57.459514Z",
          "iopub.status.idle": "2024-12-18T18:57:57.465591Z",
          "shell.execute_reply.started": "2024-12-18T18:57:57.459481Z",
          "shell.execute_reply": "2024-12-18T18:57:57.464461Z"
        },
        "id": "IKpJB33Er2k4"
      },
      "outputs": [],
      "execution_count": null
    },
    {
      "cell_type": "code",
      "source": [
        "train=pd.read_csv(\"/kaggle/input/playground-series-s4e2/train.csv\")\n",
        "test=pd.read_csv(\"/kaggle/input/playground-series-s4e2/test.csv\")"
      ],
      "metadata": {
        "trusted": true,
        "execution": {
          "iopub.status.busy": "2024-12-18T19:02:09.495633Z",
          "iopub.execute_input": "2024-12-18T19:02:09.496429Z",
          "iopub.status.idle": "2024-12-18T19:02:09.624627Z",
          "shell.execute_reply.started": "2024-12-18T19:02:09.496397Z",
          "shell.execute_reply": "2024-12-18T19:02:09.62374Z"
        },
        "id": "mcXk0OKzr2k4"
      },
      "outputs": [],
      "execution_count": null
    },
    {
      "cell_type": "code",
      "source": [
        "train"
      ],
      "metadata": {
        "trusted": true,
        "execution": {
          "iopub.status.busy": "2024-12-18T19:01:18.303414Z",
          "iopub.execute_input": "2024-12-18T19:01:18.303904Z",
          "iopub.status.idle": "2024-12-18T19:01:18.329583Z",
          "shell.execute_reply.started": "2024-12-18T19:01:18.303873Z",
          "shell.execute_reply": "2024-12-18T19:01:18.328496Z"
        },
        "id": "CQ68HxeNr2k5",
        "outputId": "3ca1f79f-a0f6-4882-bb18-a9eba9a819c4"
      },
      "outputs": [
        {
          "execution_count": 12,
          "output_type": "execute_result",
          "data": {
            "text/plain": "          id  Gender        Age    Height      Weight  \\\n0          0    Male  24.443011  1.699998   81.669950   \n1          1  Female  18.000000  1.560000   57.000000   \n2          2  Female  18.000000  1.711460   50.165754   \n3          3  Female  20.952737  1.710730  131.274851   \n4          4    Male  31.641081  1.914186   93.798055   \n...      ...     ...        ...       ...         ...   \n20753  20753    Male  25.137087  1.766626  114.187096   \n20754  20754    Male  18.000000  1.710000   50.000000   \n20755  20755    Male  20.101026  1.819557  105.580491   \n20756  20756    Male  33.852953  1.700000   83.520113   \n20757  20757    Male  26.680376  1.816547  118.134898   \n\n      family_history_with_overweight FAVC      FCVC       NCP        CAEC  \\\n0                                yes  yes  2.000000  2.983297   Sometimes   \n1                                yes  yes  2.000000  3.000000  Frequently   \n2                                yes  yes  1.880534  1.411685   Sometimes   \n3                                yes  yes  3.000000  3.000000   Sometimes   \n4                                yes  yes  2.679664  1.971472   Sometimes   \n...                              ...  ...       ...       ...         ...   \n20753                            yes  yes  2.919584  3.000000   Sometimes   \n20754                             no  yes  3.000000  4.000000  Frequently   \n20755                            yes  yes  2.407817  3.000000   Sometimes   \n20756                            yes  yes  2.671238  1.971472   Sometimes   \n20757                            yes  yes  3.000000  3.000000   Sometimes   \n\n      SMOKE      CH2O SCC       FAF       TUE       CALC  \\\n0        no  2.763573  no  0.000000  0.976473  Sometimes   \n1        no  2.000000  no  1.000000  1.000000         no   \n2        no  1.910378  no  0.866045  1.673584         no   \n3        no  1.674061  no  1.467863  0.780199  Sometimes   \n4        no  1.979848  no  1.967973  0.931721  Sometimes   \n...     ...       ...  ..       ...       ...        ...   \n20753    no  2.151809  no  1.330519  0.196680  Sometimes   \n20754    no  1.000000  no  2.000000  1.000000  Sometimes   \n20755    no  2.000000  no  1.158040  1.198439         no   \n20756    no  2.144838  no  0.000000  0.973834         no   \n20757    no  2.003563  no  0.684487  0.713823  Sometimes   \n\n                      MTRANS           NObeyesdad  \n0      Public_Transportation  Overweight_Level_II  \n1                 Automobile        Normal_Weight  \n2      Public_Transportation  Insufficient_Weight  \n3      Public_Transportation     Obesity_Type_III  \n4      Public_Transportation  Overweight_Level_II  \n...                      ...                  ...  \n20753  Public_Transportation      Obesity_Type_II  \n20754  Public_Transportation  Insufficient_Weight  \n20755  Public_Transportation      Obesity_Type_II  \n20756             Automobile  Overweight_Level_II  \n20757  Public_Transportation      Obesity_Type_II  \n\n[20758 rows x 18 columns]",
            "text/html": "<div>\n<style scoped>\n    .dataframe tbody tr th:only-of-type {\n        vertical-align: middle;\n    }\n\n    .dataframe tbody tr th {\n        vertical-align: top;\n    }\n\n    .dataframe thead th {\n        text-align: right;\n    }\n</style>\n<table border=\"1\" class=\"dataframe\">\n  <thead>\n    <tr style=\"text-align: right;\">\n      <th></th>\n      <th>id</th>\n      <th>Gender</th>\n      <th>Age</th>\n      <th>Height</th>\n      <th>Weight</th>\n      <th>family_history_with_overweight</th>\n      <th>FAVC</th>\n      <th>FCVC</th>\n      <th>NCP</th>\n      <th>CAEC</th>\n      <th>SMOKE</th>\n      <th>CH2O</th>\n      <th>SCC</th>\n      <th>FAF</th>\n      <th>TUE</th>\n      <th>CALC</th>\n      <th>MTRANS</th>\n      <th>NObeyesdad</th>\n    </tr>\n  </thead>\n  <tbody>\n    <tr>\n      <th>0</th>\n      <td>0</td>\n      <td>Male</td>\n      <td>24.443011</td>\n      <td>1.699998</td>\n      <td>81.669950</td>\n      <td>yes</td>\n      <td>yes</td>\n      <td>2.000000</td>\n      <td>2.983297</td>\n      <td>Sometimes</td>\n      <td>no</td>\n      <td>2.763573</td>\n      <td>no</td>\n      <td>0.000000</td>\n      <td>0.976473</td>\n      <td>Sometimes</td>\n      <td>Public_Transportation</td>\n      <td>Overweight_Level_II</td>\n    </tr>\n    <tr>\n      <th>1</th>\n      <td>1</td>\n      <td>Female</td>\n      <td>18.000000</td>\n      <td>1.560000</td>\n      <td>57.000000</td>\n      <td>yes</td>\n      <td>yes</td>\n      <td>2.000000</td>\n      <td>3.000000</td>\n      <td>Frequently</td>\n      <td>no</td>\n      <td>2.000000</td>\n      <td>no</td>\n      <td>1.000000</td>\n      <td>1.000000</td>\n      <td>no</td>\n      <td>Automobile</td>\n      <td>Normal_Weight</td>\n    </tr>\n    <tr>\n      <th>2</th>\n      <td>2</td>\n      <td>Female</td>\n      <td>18.000000</td>\n      <td>1.711460</td>\n      <td>50.165754</td>\n      <td>yes</td>\n      <td>yes</td>\n      <td>1.880534</td>\n      <td>1.411685</td>\n      <td>Sometimes</td>\n      <td>no</td>\n      <td>1.910378</td>\n      <td>no</td>\n      <td>0.866045</td>\n      <td>1.673584</td>\n      <td>no</td>\n      <td>Public_Transportation</td>\n      <td>Insufficient_Weight</td>\n    </tr>\n    <tr>\n      <th>3</th>\n      <td>3</td>\n      <td>Female</td>\n      <td>20.952737</td>\n      <td>1.710730</td>\n      <td>131.274851</td>\n      <td>yes</td>\n      <td>yes</td>\n      <td>3.000000</td>\n      <td>3.000000</td>\n      <td>Sometimes</td>\n      <td>no</td>\n      <td>1.674061</td>\n      <td>no</td>\n      <td>1.467863</td>\n      <td>0.780199</td>\n      <td>Sometimes</td>\n      <td>Public_Transportation</td>\n      <td>Obesity_Type_III</td>\n    </tr>\n    <tr>\n      <th>4</th>\n      <td>4</td>\n      <td>Male</td>\n      <td>31.641081</td>\n      <td>1.914186</td>\n      <td>93.798055</td>\n      <td>yes</td>\n      <td>yes</td>\n      <td>2.679664</td>\n      <td>1.971472</td>\n      <td>Sometimes</td>\n      <td>no</td>\n      <td>1.979848</td>\n      <td>no</td>\n      <td>1.967973</td>\n      <td>0.931721</td>\n      <td>Sometimes</td>\n      <td>Public_Transportation</td>\n      <td>Overweight_Level_II</td>\n    </tr>\n    <tr>\n      <th>...</th>\n      <td>...</td>\n      <td>...</td>\n      <td>...</td>\n      <td>...</td>\n      <td>...</td>\n      <td>...</td>\n      <td>...</td>\n      <td>...</td>\n      <td>...</td>\n      <td>...</td>\n      <td>...</td>\n      <td>...</td>\n      <td>...</td>\n      <td>...</td>\n      <td>...</td>\n      <td>...</td>\n      <td>...</td>\n      <td>...</td>\n    </tr>\n    <tr>\n      <th>20753</th>\n      <td>20753</td>\n      <td>Male</td>\n      <td>25.137087</td>\n      <td>1.766626</td>\n      <td>114.187096</td>\n      <td>yes</td>\n      <td>yes</td>\n      <td>2.919584</td>\n      <td>3.000000</td>\n      <td>Sometimes</td>\n      <td>no</td>\n      <td>2.151809</td>\n      <td>no</td>\n      <td>1.330519</td>\n      <td>0.196680</td>\n      <td>Sometimes</td>\n      <td>Public_Transportation</td>\n      <td>Obesity_Type_II</td>\n    </tr>\n    <tr>\n      <th>20754</th>\n      <td>20754</td>\n      <td>Male</td>\n      <td>18.000000</td>\n      <td>1.710000</td>\n      <td>50.000000</td>\n      <td>no</td>\n      <td>yes</td>\n      <td>3.000000</td>\n      <td>4.000000</td>\n      <td>Frequently</td>\n      <td>no</td>\n      <td>1.000000</td>\n      <td>no</td>\n      <td>2.000000</td>\n      <td>1.000000</td>\n      <td>Sometimes</td>\n      <td>Public_Transportation</td>\n      <td>Insufficient_Weight</td>\n    </tr>\n    <tr>\n      <th>20755</th>\n      <td>20755</td>\n      <td>Male</td>\n      <td>20.101026</td>\n      <td>1.819557</td>\n      <td>105.580491</td>\n      <td>yes</td>\n      <td>yes</td>\n      <td>2.407817</td>\n      <td>3.000000</td>\n      <td>Sometimes</td>\n      <td>no</td>\n      <td>2.000000</td>\n      <td>no</td>\n      <td>1.158040</td>\n      <td>1.198439</td>\n      <td>no</td>\n      <td>Public_Transportation</td>\n      <td>Obesity_Type_II</td>\n    </tr>\n    <tr>\n      <th>20756</th>\n      <td>20756</td>\n      <td>Male</td>\n      <td>33.852953</td>\n      <td>1.700000</td>\n      <td>83.520113</td>\n      <td>yes</td>\n      <td>yes</td>\n      <td>2.671238</td>\n      <td>1.971472</td>\n      <td>Sometimes</td>\n      <td>no</td>\n      <td>2.144838</td>\n      <td>no</td>\n      <td>0.000000</td>\n      <td>0.973834</td>\n      <td>no</td>\n      <td>Automobile</td>\n      <td>Overweight_Level_II</td>\n    </tr>\n    <tr>\n      <th>20757</th>\n      <td>20757</td>\n      <td>Male</td>\n      <td>26.680376</td>\n      <td>1.816547</td>\n      <td>118.134898</td>\n      <td>yes</td>\n      <td>yes</td>\n      <td>3.000000</td>\n      <td>3.000000</td>\n      <td>Sometimes</td>\n      <td>no</td>\n      <td>2.003563</td>\n      <td>no</td>\n      <td>0.684487</td>\n      <td>0.713823</td>\n      <td>Sometimes</td>\n      <td>Public_Transportation</td>\n      <td>Obesity_Type_II</td>\n    </tr>\n  </tbody>\n</table>\n<p>20758 rows × 18 columns</p>\n</div>"
          },
          "metadata": {}
        }
      ],
      "execution_count": null
    },
    {
      "cell_type": "code",
      "source": [
        "test"
      ],
      "metadata": {
        "trusted": true,
        "execution": {
          "iopub.status.busy": "2024-12-18T19:02:16.417124Z",
          "iopub.execute_input": "2024-12-18T19:02:16.417828Z",
          "iopub.status.idle": "2024-12-18T19:02:16.439911Z",
          "shell.execute_reply.started": "2024-12-18T19:02:16.417791Z",
          "shell.execute_reply": "2024-12-18T19:02:16.438701Z"
        },
        "id": "mEGk5J2Br2k5",
        "outputId": "38a3e408-fc8b-4c12-853d-3a6bb9ee03c5"
      },
      "outputs": [
        {
          "execution_count": 14,
          "output_type": "execute_result",
          "data": {
            "text/plain": "          id  Gender        Age    Height      Weight  \\\n0      20758    Male  26.899886  1.848294  120.644178   \n1      20759  Female  21.000000  1.600000   66.000000   \n2      20760  Female  26.000000  1.643355  111.600553   \n3      20761    Male  20.979254  1.553127  103.669116   \n4      20762  Female  26.000000  1.627396  104.835346   \n...      ...     ...        ...       ...         ...   \n13835  34593    Male  23.327836  1.721384   78.030383   \n13836  34594  Female  29.000000  1.590000   62.000000   \n13837  34595  Female  22.935612  1.585547   44.376637   \n13838  34596    Male  21.000000  1.620000   53.000000   \n13839  34597    Male  26.490926  1.812259  120.980508   \n\n      family_history_with_overweight FAVC      FCVC       NCP        CAEC  \\\n0                                yes  yes  2.938616  3.000000   Sometimes   \n1                                yes  yes  2.000000  1.000000   Sometimes   \n2                                yes  yes  3.000000  3.000000   Sometimes   \n3                                yes  yes  2.000000  2.977909   Sometimes   \n4                                yes  yes  3.000000  3.000000   Sometimes   \n...                              ...  ...       ...       ...         ...   \n13835                            yes   no  2.813234  3.000000   Sometimes   \n13836                             no  yes  3.000000  3.000000   Sometimes   \n13837                             no  yes  3.000000  2.273740  Frequently   \n13838                            yes  yes  2.000000  3.000000   Sometimes   \n13839                            yes  yes  2.744994  3.000000   Sometimes   \n\n      SMOKE      CH2O SCC       FAF       TUE       CALC  \\\n0        no  2.825629  no  0.855400  0.000000  Sometimes   \n1        no  3.000000  no  1.000000  0.000000  Sometimes   \n2        no  2.621877  no  0.000000  0.250502  Sometimes   \n3        no  2.786417  no  0.094851  0.000000  Sometimes   \n4        no  2.653531  no  0.000000  0.741069  Sometimes   \n...     ...       ...  ..       ...       ...        ...   \n13835    no  1.000000  no  0.807076  0.778632  Sometimes   \n13836    no  2.000000  no  0.000000  0.000000  Sometimes   \n13837    no  2.000000  no  1.949840  1.000000  Sometimes   \n13838    no  2.000000  no  3.000000  2.000000         no   \n13839    no  2.205977  no  1.304291  0.630866  Sometimes   \n\n                      MTRANS  \n0      Public_Transportation  \n1      Public_Transportation  \n2      Public_Transportation  \n3      Public_Transportation  \n4      Public_Transportation  \n...                      ...  \n13835  Public_Transportation  \n13836  Public_Transportation  \n13837  Public_Transportation  \n13838  Public_Transportation  \n13839  Public_Transportation  \n\n[13840 rows x 17 columns]",
            "text/html": "<div>\n<style scoped>\n    .dataframe tbody tr th:only-of-type {\n        vertical-align: middle;\n    }\n\n    .dataframe tbody tr th {\n        vertical-align: top;\n    }\n\n    .dataframe thead th {\n        text-align: right;\n    }\n</style>\n<table border=\"1\" class=\"dataframe\">\n  <thead>\n    <tr style=\"text-align: right;\">\n      <th></th>\n      <th>id</th>\n      <th>Gender</th>\n      <th>Age</th>\n      <th>Height</th>\n      <th>Weight</th>\n      <th>family_history_with_overweight</th>\n      <th>FAVC</th>\n      <th>FCVC</th>\n      <th>NCP</th>\n      <th>CAEC</th>\n      <th>SMOKE</th>\n      <th>CH2O</th>\n      <th>SCC</th>\n      <th>FAF</th>\n      <th>TUE</th>\n      <th>CALC</th>\n      <th>MTRANS</th>\n    </tr>\n  </thead>\n  <tbody>\n    <tr>\n      <th>0</th>\n      <td>20758</td>\n      <td>Male</td>\n      <td>26.899886</td>\n      <td>1.848294</td>\n      <td>120.644178</td>\n      <td>yes</td>\n      <td>yes</td>\n      <td>2.938616</td>\n      <td>3.000000</td>\n      <td>Sometimes</td>\n      <td>no</td>\n      <td>2.825629</td>\n      <td>no</td>\n      <td>0.855400</td>\n      <td>0.000000</td>\n      <td>Sometimes</td>\n      <td>Public_Transportation</td>\n    </tr>\n    <tr>\n      <th>1</th>\n      <td>20759</td>\n      <td>Female</td>\n      <td>21.000000</td>\n      <td>1.600000</td>\n      <td>66.000000</td>\n      <td>yes</td>\n      <td>yes</td>\n      <td>2.000000</td>\n      <td>1.000000</td>\n      <td>Sometimes</td>\n      <td>no</td>\n      <td>3.000000</td>\n      <td>no</td>\n      <td>1.000000</td>\n      <td>0.000000</td>\n      <td>Sometimes</td>\n      <td>Public_Transportation</td>\n    </tr>\n    <tr>\n      <th>2</th>\n      <td>20760</td>\n      <td>Female</td>\n      <td>26.000000</td>\n      <td>1.643355</td>\n      <td>111.600553</td>\n      <td>yes</td>\n      <td>yes</td>\n      <td>3.000000</td>\n      <td>3.000000</td>\n      <td>Sometimes</td>\n      <td>no</td>\n      <td>2.621877</td>\n      <td>no</td>\n      <td>0.000000</td>\n      <td>0.250502</td>\n      <td>Sometimes</td>\n      <td>Public_Transportation</td>\n    </tr>\n    <tr>\n      <th>3</th>\n      <td>20761</td>\n      <td>Male</td>\n      <td>20.979254</td>\n      <td>1.553127</td>\n      <td>103.669116</td>\n      <td>yes</td>\n      <td>yes</td>\n      <td>2.000000</td>\n      <td>2.977909</td>\n      <td>Sometimes</td>\n      <td>no</td>\n      <td>2.786417</td>\n      <td>no</td>\n      <td>0.094851</td>\n      <td>0.000000</td>\n      <td>Sometimes</td>\n      <td>Public_Transportation</td>\n    </tr>\n    <tr>\n      <th>4</th>\n      <td>20762</td>\n      <td>Female</td>\n      <td>26.000000</td>\n      <td>1.627396</td>\n      <td>104.835346</td>\n      <td>yes</td>\n      <td>yes</td>\n      <td>3.000000</td>\n      <td>3.000000</td>\n      <td>Sometimes</td>\n      <td>no</td>\n      <td>2.653531</td>\n      <td>no</td>\n      <td>0.000000</td>\n      <td>0.741069</td>\n      <td>Sometimes</td>\n      <td>Public_Transportation</td>\n    </tr>\n    <tr>\n      <th>...</th>\n      <td>...</td>\n      <td>...</td>\n      <td>...</td>\n      <td>...</td>\n      <td>...</td>\n      <td>...</td>\n      <td>...</td>\n      <td>...</td>\n      <td>...</td>\n      <td>...</td>\n      <td>...</td>\n      <td>...</td>\n      <td>...</td>\n      <td>...</td>\n      <td>...</td>\n      <td>...</td>\n      <td>...</td>\n    </tr>\n    <tr>\n      <th>13835</th>\n      <td>34593</td>\n      <td>Male</td>\n      <td>23.327836</td>\n      <td>1.721384</td>\n      <td>78.030383</td>\n      <td>yes</td>\n      <td>no</td>\n      <td>2.813234</td>\n      <td>3.000000</td>\n      <td>Sometimes</td>\n      <td>no</td>\n      <td>1.000000</td>\n      <td>no</td>\n      <td>0.807076</td>\n      <td>0.778632</td>\n      <td>Sometimes</td>\n      <td>Public_Transportation</td>\n    </tr>\n    <tr>\n      <th>13836</th>\n      <td>34594</td>\n      <td>Female</td>\n      <td>29.000000</td>\n      <td>1.590000</td>\n      <td>62.000000</td>\n      <td>no</td>\n      <td>yes</td>\n      <td>3.000000</td>\n      <td>3.000000</td>\n      <td>Sometimes</td>\n      <td>no</td>\n      <td>2.000000</td>\n      <td>no</td>\n      <td>0.000000</td>\n      <td>0.000000</td>\n      <td>Sometimes</td>\n      <td>Public_Transportation</td>\n    </tr>\n    <tr>\n      <th>13837</th>\n      <td>34595</td>\n      <td>Female</td>\n      <td>22.935612</td>\n      <td>1.585547</td>\n      <td>44.376637</td>\n      <td>no</td>\n      <td>yes</td>\n      <td>3.000000</td>\n      <td>2.273740</td>\n      <td>Frequently</td>\n      <td>no</td>\n      <td>2.000000</td>\n      <td>no</td>\n      <td>1.949840</td>\n      <td>1.000000</td>\n      <td>Sometimes</td>\n      <td>Public_Transportation</td>\n    </tr>\n    <tr>\n      <th>13838</th>\n      <td>34596</td>\n      <td>Male</td>\n      <td>21.000000</td>\n      <td>1.620000</td>\n      <td>53.000000</td>\n      <td>yes</td>\n      <td>yes</td>\n      <td>2.000000</td>\n      <td>3.000000</td>\n      <td>Sometimes</td>\n      <td>no</td>\n      <td>2.000000</td>\n      <td>no</td>\n      <td>3.000000</td>\n      <td>2.000000</td>\n      <td>no</td>\n      <td>Public_Transportation</td>\n    </tr>\n    <tr>\n      <th>13839</th>\n      <td>34597</td>\n      <td>Male</td>\n      <td>26.490926</td>\n      <td>1.812259</td>\n      <td>120.980508</td>\n      <td>yes</td>\n      <td>yes</td>\n      <td>2.744994</td>\n      <td>3.000000</td>\n      <td>Sometimes</td>\n      <td>no</td>\n      <td>2.205977</td>\n      <td>no</td>\n      <td>1.304291</td>\n      <td>0.630866</td>\n      <td>Sometimes</td>\n      <td>Public_Transportation</td>\n    </tr>\n  </tbody>\n</table>\n<p>13840 rows × 17 columns</p>\n</div>"
          },
          "metadata": {}
        }
      ],
      "execution_count": null
    },
    {
      "cell_type": "code",
      "source": [
        "train.info()"
      ],
      "metadata": {
        "trusted": true,
        "execution": {
          "iopub.status.busy": "2024-12-18T19:14:33.659405Z",
          "iopub.execute_input": "2024-12-18T19:14:33.659837Z",
          "iopub.status.idle": "2024-12-18T19:14:33.681567Z",
          "shell.execute_reply.started": "2024-12-18T19:14:33.6598Z",
          "shell.execute_reply": "2024-12-18T19:14:33.680357Z"
        },
        "id": "2oscO2H7r2k6",
        "outputId": "31ea9101-db13-4e9d-ddcd-201aa8c7b62b"
      },
      "outputs": [
        {
          "name": "stdout",
          "text": "<class 'pandas.core.frame.DataFrame'>\nRangeIndex: 20758 entries, 0 to 20757\nData columns (total 18 columns):\n #   Column                          Non-Null Count  Dtype  \n---  ------                          --------------  -----  \n 0   id                              20758 non-null  int64  \n 1   Gender                          20758 non-null  object \n 2   Age                             20758 non-null  float64\n 3   Height                          20758 non-null  float64\n 4   Weight                          20758 non-null  float64\n 5   family_history_with_overweight  20758 non-null  object \n 6   FAVC                            20758 non-null  object \n 7   FCVC                            20758 non-null  float64\n 8   NCP                             20758 non-null  float64\n 9   CAEC                            20758 non-null  object \n 10  SMOKE                           20758 non-null  object \n 11  CH2O                            20758 non-null  float64\n 12  SCC                             20758 non-null  object \n 13  FAF                             20758 non-null  float64\n 14  TUE                             20758 non-null  float64\n 15  CALC                            20758 non-null  object \n 16  MTRANS                          20758 non-null  object \n 17  NObeyesdad                      20758 non-null  object \ndtypes: float64(8), int64(1), object(9)\nmemory usage: 2.9+ MB\n",
          "output_type": "stream"
        }
      ],
      "execution_count": null
    },
    {
      "cell_type": "code",
      "source": [
        "train.isnull().sum()"
      ],
      "metadata": {
        "trusted": true,
        "execution": {
          "iopub.status.busy": "2024-12-18T19:15:21.47594Z",
          "iopub.execute_input": "2024-12-18T19:15:21.47633Z",
          "iopub.status.idle": "2024-12-18T19:15:21.495954Z",
          "shell.execute_reply.started": "2024-12-18T19:15:21.476298Z",
          "shell.execute_reply": "2024-12-18T19:15:21.494744Z"
        },
        "id": "umxG9e6Ir2k6",
        "outputId": "2bc323da-8f13-46a3-d60c-558813cd360a"
      },
      "outputs": [
        {
          "execution_count": 17,
          "output_type": "execute_result",
          "data": {
            "text/plain": "id                                0\nGender                            0\nAge                               0\nHeight                            0\nWeight                            0\nfamily_history_with_overweight    0\nFAVC                              0\nFCVC                              0\nNCP                               0\nCAEC                              0\nSMOKE                             0\nCH2O                              0\nSCC                               0\nFAF                               0\nTUE                               0\nCALC                              0\nMTRANS                            0\nNObeyesdad                        0\ndtype: int64"
          },
          "metadata": {}
        }
      ],
      "execution_count": null
    },
    {
      "cell_type": "code",
      "source": [
        "train.shape"
      ],
      "metadata": {
        "trusted": true,
        "execution": {
          "iopub.status.busy": "2024-12-18T19:16:42.497812Z",
          "iopub.execute_input": "2024-12-18T19:16:42.498309Z",
          "iopub.status.idle": "2024-12-18T19:16:42.507086Z",
          "shell.execute_reply.started": "2024-12-18T19:16:42.498261Z",
          "shell.execute_reply": "2024-12-18T19:16:42.505696Z"
        },
        "id": "SaM8xN5Sr2k6",
        "outputId": "d2d9bbfa-fde1-48f5-dff6-7e14c2d3e39f"
      },
      "outputs": [
        {
          "execution_count": 19,
          "output_type": "execute_result",
          "data": {
            "text/plain": "(20758, 18)"
          },
          "metadata": {}
        }
      ],
      "execution_count": null
    },
    {
      "cell_type": "code",
      "source": [
        "train.columns"
      ],
      "metadata": {
        "trusted": true,
        "execution": {
          "iopub.status.busy": "2024-12-18T19:17:36.297362Z",
          "iopub.execute_input": "2024-12-18T19:17:36.297816Z",
          "iopub.status.idle": "2024-12-18T19:17:36.305267Z",
          "shell.execute_reply.started": "2024-12-18T19:17:36.29778Z",
          "shell.execute_reply": "2024-12-18T19:17:36.304154Z"
        },
        "id": "Wg9O81ZTr2k6",
        "outputId": "749664f1-7d1e-4bdb-aa90-e89802f54142"
      },
      "outputs": [
        {
          "execution_count": 20,
          "output_type": "execute_result",
          "data": {
            "text/plain": "Index(['id', 'Gender', 'Age', 'Height', 'Weight',\n       'family_history_with_overweight', 'FAVC', 'FCVC', 'NCP', 'CAEC',\n       'SMOKE', 'CH2O', 'SCC', 'FAF', 'TUE', 'CALC', 'MTRANS', 'NObeyesdad'],\n      dtype='object')"
          },
          "metadata": {}
        }
      ],
      "execution_count": null
    },
    {
      "cell_type": "code",
      "source": [
        "train.duplicated().sum()"
      ],
      "metadata": {
        "trusted": true,
        "execution": {
          "iopub.status.busy": "2024-12-18T19:20:38.336117Z",
          "iopub.execute_input": "2024-12-18T19:20:38.336621Z",
          "iopub.status.idle": "2024-12-18T19:20:38.369889Z",
          "shell.execute_reply.started": "2024-12-18T19:20:38.336571Z",
          "shell.execute_reply": "2024-12-18T19:20:38.368587Z"
        },
        "id": "XB4yvQk0r2k7",
        "outputId": "8c87f60b-9ffd-481e-90ee-d9ae6b30809b"
      },
      "outputs": [
        {
          "execution_count": 21,
          "output_type": "execute_result",
          "data": {
            "text/plain": "0"
          },
          "metadata": {}
        }
      ],
      "execution_count": null
    },
    {
      "cell_type": "code",
      "source": [],
      "metadata": {
        "trusted": true,
        "id": "gwuzoapBr2k7"
      },
      "outputs": [],
      "execution_count": null
    },
    {
      "cell_type": "code",
      "source": [
        "train.describe()"
      ],
      "metadata": {
        "trusted": true,
        "execution": {
          "iopub.status.busy": "2024-12-18T19:21:16.058539Z",
          "iopub.execute_input": "2024-12-18T19:21:16.059355Z",
          "iopub.status.idle": "2024-12-18T19:21:16.099575Z",
          "shell.execute_reply.started": "2024-12-18T19:21:16.059319Z",
          "shell.execute_reply": "2024-12-18T19:21:16.098547Z"
        },
        "id": "zfSpaUCRr2k7",
        "outputId": "6286f58e-9d2e-419e-8a22-9f86c11e36ac"
      },
      "outputs": [
        {
          "execution_count": 23,
          "output_type": "execute_result",
          "data": {
            "text/plain": "                id           Age        Height        Weight          FCVC  \\\ncount  20758.00000  20758.000000  20758.000000  20758.000000  20758.000000   \nmean   10378.50000     23.841804      1.700245     87.887768      2.445908   \nstd     5992.46278      5.688072      0.087312     26.379443      0.533218   \nmin        0.00000     14.000000      1.450000     39.000000      1.000000   \n25%     5189.25000     20.000000      1.631856     66.000000      2.000000   \n50%    10378.50000     22.815416      1.700000     84.064875      2.393837   \n75%    15567.75000     26.000000      1.762887    111.600553      3.000000   \nmax    20757.00000     61.000000      1.975663    165.057269      3.000000   \n\n                NCP          CH2O           FAF           TUE  \ncount  20758.000000  20758.000000  20758.000000  20758.000000  \nmean       2.761332      2.029418      0.981747      0.616756  \nstd        0.705375      0.608467      0.838302      0.602113  \nmin        1.000000      1.000000      0.000000      0.000000  \n25%        3.000000      1.792022      0.008013      0.000000  \n50%        3.000000      2.000000      1.000000      0.573887  \n75%        3.000000      2.549617      1.587406      1.000000  \nmax        4.000000      3.000000      3.000000      2.000000  ",
            "text/html": "<div>\n<style scoped>\n    .dataframe tbody tr th:only-of-type {\n        vertical-align: middle;\n    }\n\n    .dataframe tbody tr th {\n        vertical-align: top;\n    }\n\n    .dataframe thead th {\n        text-align: right;\n    }\n</style>\n<table border=\"1\" class=\"dataframe\">\n  <thead>\n    <tr style=\"text-align: right;\">\n      <th></th>\n      <th>id</th>\n      <th>Age</th>\n      <th>Height</th>\n      <th>Weight</th>\n      <th>FCVC</th>\n      <th>NCP</th>\n      <th>CH2O</th>\n      <th>FAF</th>\n      <th>TUE</th>\n    </tr>\n  </thead>\n  <tbody>\n    <tr>\n      <th>count</th>\n      <td>20758.00000</td>\n      <td>20758.000000</td>\n      <td>20758.000000</td>\n      <td>20758.000000</td>\n      <td>20758.000000</td>\n      <td>20758.000000</td>\n      <td>20758.000000</td>\n      <td>20758.000000</td>\n      <td>20758.000000</td>\n    </tr>\n    <tr>\n      <th>mean</th>\n      <td>10378.50000</td>\n      <td>23.841804</td>\n      <td>1.700245</td>\n      <td>87.887768</td>\n      <td>2.445908</td>\n      <td>2.761332</td>\n      <td>2.029418</td>\n      <td>0.981747</td>\n      <td>0.616756</td>\n    </tr>\n    <tr>\n      <th>std</th>\n      <td>5992.46278</td>\n      <td>5.688072</td>\n      <td>0.087312</td>\n      <td>26.379443</td>\n      <td>0.533218</td>\n      <td>0.705375</td>\n      <td>0.608467</td>\n      <td>0.838302</td>\n      <td>0.602113</td>\n    </tr>\n    <tr>\n      <th>min</th>\n      <td>0.00000</td>\n      <td>14.000000</td>\n      <td>1.450000</td>\n      <td>39.000000</td>\n      <td>1.000000</td>\n      <td>1.000000</td>\n      <td>1.000000</td>\n      <td>0.000000</td>\n      <td>0.000000</td>\n    </tr>\n    <tr>\n      <th>25%</th>\n      <td>5189.25000</td>\n      <td>20.000000</td>\n      <td>1.631856</td>\n      <td>66.000000</td>\n      <td>2.000000</td>\n      <td>3.000000</td>\n      <td>1.792022</td>\n      <td>0.008013</td>\n      <td>0.000000</td>\n    </tr>\n    <tr>\n      <th>50%</th>\n      <td>10378.50000</td>\n      <td>22.815416</td>\n      <td>1.700000</td>\n      <td>84.064875</td>\n      <td>2.393837</td>\n      <td>3.000000</td>\n      <td>2.000000</td>\n      <td>1.000000</td>\n      <td>0.573887</td>\n    </tr>\n    <tr>\n      <th>75%</th>\n      <td>15567.75000</td>\n      <td>26.000000</td>\n      <td>1.762887</td>\n      <td>111.600553</td>\n      <td>3.000000</td>\n      <td>3.000000</td>\n      <td>2.549617</td>\n      <td>1.587406</td>\n      <td>1.000000</td>\n    </tr>\n    <tr>\n      <th>max</th>\n      <td>20757.00000</td>\n      <td>61.000000</td>\n      <td>1.975663</td>\n      <td>165.057269</td>\n      <td>3.000000</td>\n      <td>4.000000</td>\n      <td>3.000000</td>\n      <td>3.000000</td>\n      <td>2.000000</td>\n    </tr>\n  </tbody>\n</table>\n</div>"
          },
          "metadata": {}
        }
      ],
      "execution_count": null
    },
    {
      "cell_type": "code",
      "source": [
        "train.describe(include='all')"
      ],
      "metadata": {
        "trusted": true,
        "execution": {
          "iopub.status.busy": "2024-12-18T19:22:16.568549Z",
          "iopub.execute_input": "2024-12-18T19:22:16.568983Z",
          "iopub.status.idle": "2024-12-18T19:22:16.641698Z",
          "shell.execute_reply.started": "2024-12-18T19:22:16.568934Z",
          "shell.execute_reply": "2024-12-18T19:22:16.640748Z"
        },
        "id": "HZOixKHUr2k7",
        "outputId": "7622da6f-47a8-416e-b8b6-60b88ed89a04"
      },
      "outputs": [
        {
          "execution_count": 24,
          "output_type": "execute_result",
          "data": {
            "text/plain": "                 id  Gender           Age        Height        Weight  \\\ncount   20758.00000   20758  20758.000000  20758.000000  20758.000000   \nunique          NaN       2           NaN           NaN           NaN   \ntop             NaN  Female           NaN           NaN           NaN   \nfreq            NaN   10422           NaN           NaN           NaN   \nmean    10378.50000     NaN     23.841804      1.700245     87.887768   \nstd      5992.46278     NaN      5.688072      0.087312     26.379443   \nmin         0.00000     NaN     14.000000      1.450000     39.000000   \n25%      5189.25000     NaN     20.000000      1.631856     66.000000   \n50%     10378.50000     NaN     22.815416      1.700000     84.064875   \n75%     15567.75000     NaN     26.000000      1.762887    111.600553   \nmax     20757.00000     NaN     61.000000      1.975663    165.057269   \n\n       family_history_with_overweight   FAVC          FCVC           NCP  \\\ncount                           20758  20758  20758.000000  20758.000000   \nunique                              2      2           NaN           NaN   \ntop                               yes    yes           NaN           NaN   \nfreq                            17014  18982           NaN           NaN   \nmean                              NaN    NaN      2.445908      2.761332   \nstd                               NaN    NaN      0.533218      0.705375   \nmin                               NaN    NaN      1.000000      1.000000   \n25%                               NaN    NaN      2.000000      3.000000   \n50%                               NaN    NaN      2.393837      3.000000   \n75%                               NaN    NaN      3.000000      3.000000   \nmax                               NaN    NaN      3.000000      4.000000   \n\n             CAEC  SMOKE          CH2O    SCC           FAF           TUE  \\\ncount       20758  20758  20758.000000  20758  20758.000000  20758.000000   \nunique          4      2           NaN      2           NaN           NaN   \ntop     Sometimes     no           NaN     no           NaN           NaN   \nfreq        17529  20513           NaN  20071           NaN           NaN   \nmean          NaN    NaN      2.029418    NaN      0.981747      0.616756   \nstd           NaN    NaN      0.608467    NaN      0.838302      0.602113   \nmin           NaN    NaN      1.000000    NaN      0.000000      0.000000   \n25%           NaN    NaN      1.792022    NaN      0.008013      0.000000   \n50%           NaN    NaN      2.000000    NaN      1.000000      0.573887   \n75%           NaN    NaN      2.549617    NaN      1.587406      1.000000   \nmax           NaN    NaN      3.000000    NaN      3.000000      2.000000   \n\n             CALC                 MTRANS        NObeyesdad  \ncount       20758                  20758             20758  \nunique          3                      5                 7  \ntop     Sometimes  Public_Transportation  Obesity_Type_III  \nfreq        15066                  16687              4046  \nmean          NaN                    NaN               NaN  \nstd           NaN                    NaN               NaN  \nmin           NaN                    NaN               NaN  \n25%           NaN                    NaN               NaN  \n50%           NaN                    NaN               NaN  \n75%           NaN                    NaN               NaN  \nmax           NaN                    NaN               NaN  ",
            "text/html": "<div>\n<style scoped>\n    .dataframe tbody tr th:only-of-type {\n        vertical-align: middle;\n    }\n\n    .dataframe tbody tr th {\n        vertical-align: top;\n    }\n\n    .dataframe thead th {\n        text-align: right;\n    }\n</style>\n<table border=\"1\" class=\"dataframe\">\n  <thead>\n    <tr style=\"text-align: right;\">\n      <th></th>\n      <th>id</th>\n      <th>Gender</th>\n      <th>Age</th>\n      <th>Height</th>\n      <th>Weight</th>\n      <th>family_history_with_overweight</th>\n      <th>FAVC</th>\n      <th>FCVC</th>\n      <th>NCP</th>\n      <th>CAEC</th>\n      <th>SMOKE</th>\n      <th>CH2O</th>\n      <th>SCC</th>\n      <th>FAF</th>\n      <th>TUE</th>\n      <th>CALC</th>\n      <th>MTRANS</th>\n      <th>NObeyesdad</th>\n    </tr>\n  </thead>\n  <tbody>\n    <tr>\n      <th>count</th>\n      <td>20758.00000</td>\n      <td>20758</td>\n      <td>20758.000000</td>\n      <td>20758.000000</td>\n      <td>20758.000000</td>\n      <td>20758</td>\n      <td>20758</td>\n      <td>20758.000000</td>\n      <td>20758.000000</td>\n      <td>20758</td>\n      <td>20758</td>\n      <td>20758.000000</td>\n      <td>20758</td>\n      <td>20758.000000</td>\n      <td>20758.000000</td>\n      <td>20758</td>\n      <td>20758</td>\n      <td>20758</td>\n    </tr>\n    <tr>\n      <th>unique</th>\n      <td>NaN</td>\n      <td>2</td>\n      <td>NaN</td>\n      <td>NaN</td>\n      <td>NaN</td>\n      <td>2</td>\n      <td>2</td>\n      <td>NaN</td>\n      <td>NaN</td>\n      <td>4</td>\n      <td>2</td>\n      <td>NaN</td>\n      <td>2</td>\n      <td>NaN</td>\n      <td>NaN</td>\n      <td>3</td>\n      <td>5</td>\n      <td>7</td>\n    </tr>\n    <tr>\n      <th>top</th>\n      <td>NaN</td>\n      <td>Female</td>\n      <td>NaN</td>\n      <td>NaN</td>\n      <td>NaN</td>\n      <td>yes</td>\n      <td>yes</td>\n      <td>NaN</td>\n      <td>NaN</td>\n      <td>Sometimes</td>\n      <td>no</td>\n      <td>NaN</td>\n      <td>no</td>\n      <td>NaN</td>\n      <td>NaN</td>\n      <td>Sometimes</td>\n      <td>Public_Transportation</td>\n      <td>Obesity_Type_III</td>\n    </tr>\n    <tr>\n      <th>freq</th>\n      <td>NaN</td>\n      <td>10422</td>\n      <td>NaN</td>\n      <td>NaN</td>\n      <td>NaN</td>\n      <td>17014</td>\n      <td>18982</td>\n      <td>NaN</td>\n      <td>NaN</td>\n      <td>17529</td>\n      <td>20513</td>\n      <td>NaN</td>\n      <td>20071</td>\n      <td>NaN</td>\n      <td>NaN</td>\n      <td>15066</td>\n      <td>16687</td>\n      <td>4046</td>\n    </tr>\n    <tr>\n      <th>mean</th>\n      <td>10378.50000</td>\n      <td>NaN</td>\n      <td>23.841804</td>\n      <td>1.700245</td>\n      <td>87.887768</td>\n      <td>NaN</td>\n      <td>NaN</td>\n      <td>2.445908</td>\n      <td>2.761332</td>\n      <td>NaN</td>\n      <td>NaN</td>\n      <td>2.029418</td>\n      <td>NaN</td>\n      <td>0.981747</td>\n      <td>0.616756</td>\n      <td>NaN</td>\n      <td>NaN</td>\n      <td>NaN</td>\n    </tr>\n    <tr>\n      <th>std</th>\n      <td>5992.46278</td>\n      <td>NaN</td>\n      <td>5.688072</td>\n      <td>0.087312</td>\n      <td>26.379443</td>\n      <td>NaN</td>\n      <td>NaN</td>\n      <td>0.533218</td>\n      <td>0.705375</td>\n      <td>NaN</td>\n      <td>NaN</td>\n      <td>0.608467</td>\n      <td>NaN</td>\n      <td>0.838302</td>\n      <td>0.602113</td>\n      <td>NaN</td>\n      <td>NaN</td>\n      <td>NaN</td>\n    </tr>\n    <tr>\n      <th>min</th>\n      <td>0.00000</td>\n      <td>NaN</td>\n      <td>14.000000</td>\n      <td>1.450000</td>\n      <td>39.000000</td>\n      <td>NaN</td>\n      <td>NaN</td>\n      <td>1.000000</td>\n      <td>1.000000</td>\n      <td>NaN</td>\n      <td>NaN</td>\n      <td>1.000000</td>\n      <td>NaN</td>\n      <td>0.000000</td>\n      <td>0.000000</td>\n      <td>NaN</td>\n      <td>NaN</td>\n      <td>NaN</td>\n    </tr>\n    <tr>\n      <th>25%</th>\n      <td>5189.25000</td>\n      <td>NaN</td>\n      <td>20.000000</td>\n      <td>1.631856</td>\n      <td>66.000000</td>\n      <td>NaN</td>\n      <td>NaN</td>\n      <td>2.000000</td>\n      <td>3.000000</td>\n      <td>NaN</td>\n      <td>NaN</td>\n      <td>1.792022</td>\n      <td>NaN</td>\n      <td>0.008013</td>\n      <td>0.000000</td>\n      <td>NaN</td>\n      <td>NaN</td>\n      <td>NaN</td>\n    </tr>\n    <tr>\n      <th>50%</th>\n      <td>10378.50000</td>\n      <td>NaN</td>\n      <td>22.815416</td>\n      <td>1.700000</td>\n      <td>84.064875</td>\n      <td>NaN</td>\n      <td>NaN</td>\n      <td>2.393837</td>\n      <td>3.000000</td>\n      <td>NaN</td>\n      <td>NaN</td>\n      <td>2.000000</td>\n      <td>NaN</td>\n      <td>1.000000</td>\n      <td>0.573887</td>\n      <td>NaN</td>\n      <td>NaN</td>\n      <td>NaN</td>\n    </tr>\n    <tr>\n      <th>75%</th>\n      <td>15567.75000</td>\n      <td>NaN</td>\n      <td>26.000000</td>\n      <td>1.762887</td>\n      <td>111.600553</td>\n      <td>NaN</td>\n      <td>NaN</td>\n      <td>3.000000</td>\n      <td>3.000000</td>\n      <td>NaN</td>\n      <td>NaN</td>\n      <td>2.549617</td>\n      <td>NaN</td>\n      <td>1.587406</td>\n      <td>1.000000</td>\n      <td>NaN</td>\n      <td>NaN</td>\n      <td>NaN</td>\n    </tr>\n    <tr>\n      <th>max</th>\n      <td>20757.00000</td>\n      <td>NaN</td>\n      <td>61.000000</td>\n      <td>1.975663</td>\n      <td>165.057269</td>\n      <td>NaN</td>\n      <td>NaN</td>\n      <td>3.000000</td>\n      <td>4.000000</td>\n      <td>NaN</td>\n      <td>NaN</td>\n      <td>3.000000</td>\n      <td>NaN</td>\n      <td>3.000000</td>\n      <td>2.000000</td>\n      <td>NaN</td>\n      <td>NaN</td>\n      <td>NaN</td>\n    </tr>\n  </tbody>\n</table>\n</div>"
          },
          "metadata": {}
        }
      ],
      "execution_count": null
    },
    {
      "cell_type": "code",
      "source": [
        "la=LabelEncoder()\n"
      ],
      "metadata": {
        "trusted": true,
        "execution": {
          "iopub.status.busy": "2024-12-18T19:25:34.014751Z",
          "iopub.execute_input": "2024-12-18T19:25:34.015574Z",
          "iopub.status.idle": "2024-12-18T19:25:34.019969Z",
          "shell.execute_reply.started": "2024-12-18T19:25:34.015536Z",
          "shell.execute_reply": "2024-12-18T19:25:34.01884Z"
        },
        "id": "CK2HV45or2k7"
      },
      "outputs": [],
      "execution_count": null
    },
    {
      "cell_type": "code",
      "source": [
        "obj=train.select_dtypes(include='object')\n",
        "num=train.select_dtypes(exclude='object')"
      ],
      "metadata": {
        "trusted": true,
        "execution": {
          "iopub.status.busy": "2024-12-18T19:28:35.646813Z",
          "iopub.execute_input": "2024-12-18T19:28:35.647158Z",
          "iopub.status.idle": "2024-12-18T19:28:35.654908Z",
          "shell.execute_reply.started": "2024-12-18T19:28:35.64713Z",
          "shell.execute_reply": "2024-12-18T19:28:35.653633Z"
        },
        "id": "lptlYB9Rr2k7"
      },
      "outputs": [],
      "execution_count": null
    },
    {
      "cell_type": "code",
      "source": [
        "for i in range (0,obj.shape[1]):\n",
        "    obj.iloc[:,i]=la.fit_transform(obj.iloc[:,i])\n"
      ],
      "metadata": {
        "trusted": true,
        "execution": {
          "iopub.status.busy": "2024-12-18T19:34:58.964026Z",
          "iopub.execute_input": "2024-12-18T19:34:58.965322Z",
          "iopub.status.idle": "2024-12-18T19:34:59.007865Z",
          "shell.execute_reply.started": "2024-12-18T19:34:58.96528Z",
          "shell.execute_reply": "2024-12-18T19:34:59.006718Z"
        },
        "id": "ClFlmVaMr2k7"
      },
      "outputs": [],
      "execution_count": null
    },
    {
      "cell_type": "code",
      "source": [
        "obj=obj.astype('int')"
      ],
      "metadata": {
        "trusted": true,
        "execution": {
          "iopub.status.busy": "2024-12-18T19:36:21.198857Z",
          "iopub.execute_input": "2024-12-18T19:36:21.199237Z",
          "iopub.status.idle": "2024-12-18T19:36:21.20481Z",
          "shell.execute_reply.started": "2024-12-18T19:36:21.199205Z",
          "shell.execute_reply": "2024-12-18T19:36:21.203759Z"
        },
        "id": "z-cAJlPlr2k7"
      },
      "outputs": [],
      "execution_count": null
    },
    {
      "cell_type": "code",
      "source": [
        "train_data=pd.concat([obj,num],axis=1)"
      ],
      "metadata": {
        "trusted": true,
        "execution": {
          "iopub.status.busy": "2024-12-18T19:40:35.611141Z",
          "iopub.execute_input": "2024-12-18T19:40:35.611865Z",
          "iopub.status.idle": "2024-12-18T19:40:35.618041Z",
          "shell.execute_reply.started": "2024-12-18T19:40:35.611828Z",
          "shell.execute_reply": "2024-12-18T19:40:35.616885Z"
        },
        "id": "wYxZf0Ksr2k7"
      },
      "outputs": [],
      "execution_count": null
    },
    {
      "cell_type": "raw",
      "source": [],
      "metadata": {
        "execution": {
          "iopub.status.busy": "2024-12-18T19:33:39.55519Z",
          "iopub.execute_input": "2024-12-18T19:33:39.555562Z",
          "iopub.status.idle": "2024-12-18T19:33:39.570963Z",
          "shell.execute_reply.started": "2024-12-18T19:33:39.55553Z",
          "shell.execute_reply": "2024-12-18T19:33:39.569566Z"
        },
        "id": "Y-RFUiHSr2k8"
      }
    },
    {
      "cell_type": "code",
      "source": [
        "train_data.info()"
      ],
      "metadata": {
        "trusted": true,
        "execution": {
          "iopub.status.busy": "2024-12-18T19:40:42.94165Z",
          "iopub.execute_input": "2024-12-18T19:40:42.94225Z",
          "iopub.status.idle": "2024-12-18T19:40:42.953831Z",
          "shell.execute_reply.started": "2024-12-18T19:40:42.942212Z",
          "shell.execute_reply": "2024-12-18T19:40:42.952753Z"
        },
        "id": "67DIXWuSr2k8",
        "outputId": "0ede4db6-2ad0-443c-af73-a96c31602fa8"
      },
      "outputs": [
        {
          "name": "stdout",
          "text": "<class 'pandas.core.frame.DataFrame'>\nRangeIndex: 20758 entries, 0 to 20757\nData columns (total 18 columns):\n #   Column                          Non-Null Count  Dtype  \n---  ------                          --------------  -----  \n 0   Gender                          20758 non-null  int64  \n 1   family_history_with_overweight  20758 non-null  int64  \n 2   FAVC                            20758 non-null  int64  \n 3   CAEC                            20758 non-null  int64  \n 4   SMOKE                           20758 non-null  int64  \n 5   SCC                             20758 non-null  int64  \n 6   CALC                            20758 non-null  int64  \n 7   MTRANS                          20758 non-null  int64  \n 8   NObeyesdad                      20758 non-null  int64  \n 9   id                              20758 non-null  int64  \n 10  Age                             20758 non-null  float64\n 11  Height                          20758 non-null  float64\n 12  Weight                          20758 non-null  float64\n 13  FCVC                            20758 non-null  float64\n 14  NCP                             20758 non-null  float64\n 15  CH2O                            20758 non-null  float64\n 16  FAF                             20758 non-null  float64\n 17  TUE                             20758 non-null  float64\ndtypes: float64(8), int64(10)\nmemory usage: 2.9 MB\n",
          "output_type": "stream"
        }
      ],
      "execution_count": null
    },
    {
      "cell_type": "code",
      "source": [
        "test"
      ],
      "metadata": {
        "trusted": true,
        "execution": {
          "iopub.status.busy": "2024-12-18T19:40:55.974607Z",
          "iopub.execute_input": "2024-12-18T19:40:55.975381Z",
          "iopub.status.idle": "2024-12-18T19:40:55.995513Z",
          "shell.execute_reply.started": "2024-12-18T19:40:55.975348Z",
          "shell.execute_reply": "2024-12-18T19:40:55.994298Z"
        },
        "id": "WCB-MePFr2k8",
        "outputId": "02ec7b48-5b25-4d97-9ab7-121a7661111b"
      },
      "outputs": [
        {
          "execution_count": 45,
          "output_type": "execute_result",
          "data": {
            "text/plain": "          id  Gender        Age    Height      Weight  \\\n0      20758    Male  26.899886  1.848294  120.644178   \n1      20759  Female  21.000000  1.600000   66.000000   \n2      20760  Female  26.000000  1.643355  111.600553   \n3      20761    Male  20.979254  1.553127  103.669116   \n4      20762  Female  26.000000  1.627396  104.835346   \n...      ...     ...        ...       ...         ...   \n13835  34593    Male  23.327836  1.721384   78.030383   \n13836  34594  Female  29.000000  1.590000   62.000000   \n13837  34595  Female  22.935612  1.585547   44.376637   \n13838  34596    Male  21.000000  1.620000   53.000000   \n13839  34597    Male  26.490926  1.812259  120.980508   \n\n      family_history_with_overweight FAVC      FCVC       NCP        CAEC  \\\n0                                yes  yes  2.938616  3.000000   Sometimes   \n1                                yes  yes  2.000000  1.000000   Sometimes   \n2                                yes  yes  3.000000  3.000000   Sometimes   \n3                                yes  yes  2.000000  2.977909   Sometimes   \n4                                yes  yes  3.000000  3.000000   Sometimes   \n...                              ...  ...       ...       ...         ...   \n13835                            yes   no  2.813234  3.000000   Sometimes   \n13836                             no  yes  3.000000  3.000000   Sometimes   \n13837                             no  yes  3.000000  2.273740  Frequently   \n13838                            yes  yes  2.000000  3.000000   Sometimes   \n13839                            yes  yes  2.744994  3.000000   Sometimes   \n\n      SMOKE      CH2O SCC       FAF       TUE       CALC  \\\n0        no  2.825629  no  0.855400  0.000000  Sometimes   \n1        no  3.000000  no  1.000000  0.000000  Sometimes   \n2        no  2.621877  no  0.000000  0.250502  Sometimes   \n3        no  2.786417  no  0.094851  0.000000  Sometimes   \n4        no  2.653531  no  0.000000  0.741069  Sometimes   \n...     ...       ...  ..       ...       ...        ...   \n13835    no  1.000000  no  0.807076  0.778632  Sometimes   \n13836    no  2.000000  no  0.000000  0.000000  Sometimes   \n13837    no  2.000000  no  1.949840  1.000000  Sometimes   \n13838    no  2.000000  no  3.000000  2.000000         no   \n13839    no  2.205977  no  1.304291  0.630866  Sometimes   \n\n                      MTRANS  \n0      Public_Transportation  \n1      Public_Transportation  \n2      Public_Transportation  \n3      Public_Transportation  \n4      Public_Transportation  \n...                      ...  \n13835  Public_Transportation  \n13836  Public_Transportation  \n13837  Public_Transportation  \n13838  Public_Transportation  \n13839  Public_Transportation  \n\n[13840 rows x 17 columns]",
            "text/html": "<div>\n<style scoped>\n    .dataframe tbody tr th:only-of-type {\n        vertical-align: middle;\n    }\n\n    .dataframe tbody tr th {\n        vertical-align: top;\n    }\n\n    .dataframe thead th {\n        text-align: right;\n    }\n</style>\n<table border=\"1\" class=\"dataframe\">\n  <thead>\n    <tr style=\"text-align: right;\">\n      <th></th>\n      <th>id</th>\n      <th>Gender</th>\n      <th>Age</th>\n      <th>Height</th>\n      <th>Weight</th>\n      <th>family_history_with_overweight</th>\n      <th>FAVC</th>\n      <th>FCVC</th>\n      <th>NCP</th>\n      <th>CAEC</th>\n      <th>SMOKE</th>\n      <th>CH2O</th>\n      <th>SCC</th>\n      <th>FAF</th>\n      <th>TUE</th>\n      <th>CALC</th>\n      <th>MTRANS</th>\n    </tr>\n  </thead>\n  <tbody>\n    <tr>\n      <th>0</th>\n      <td>20758</td>\n      <td>Male</td>\n      <td>26.899886</td>\n      <td>1.848294</td>\n      <td>120.644178</td>\n      <td>yes</td>\n      <td>yes</td>\n      <td>2.938616</td>\n      <td>3.000000</td>\n      <td>Sometimes</td>\n      <td>no</td>\n      <td>2.825629</td>\n      <td>no</td>\n      <td>0.855400</td>\n      <td>0.000000</td>\n      <td>Sometimes</td>\n      <td>Public_Transportation</td>\n    </tr>\n    <tr>\n      <th>1</th>\n      <td>20759</td>\n      <td>Female</td>\n      <td>21.000000</td>\n      <td>1.600000</td>\n      <td>66.000000</td>\n      <td>yes</td>\n      <td>yes</td>\n      <td>2.000000</td>\n      <td>1.000000</td>\n      <td>Sometimes</td>\n      <td>no</td>\n      <td>3.000000</td>\n      <td>no</td>\n      <td>1.000000</td>\n      <td>0.000000</td>\n      <td>Sometimes</td>\n      <td>Public_Transportation</td>\n    </tr>\n    <tr>\n      <th>2</th>\n      <td>20760</td>\n      <td>Female</td>\n      <td>26.000000</td>\n      <td>1.643355</td>\n      <td>111.600553</td>\n      <td>yes</td>\n      <td>yes</td>\n      <td>3.000000</td>\n      <td>3.000000</td>\n      <td>Sometimes</td>\n      <td>no</td>\n      <td>2.621877</td>\n      <td>no</td>\n      <td>0.000000</td>\n      <td>0.250502</td>\n      <td>Sometimes</td>\n      <td>Public_Transportation</td>\n    </tr>\n    <tr>\n      <th>3</th>\n      <td>20761</td>\n      <td>Male</td>\n      <td>20.979254</td>\n      <td>1.553127</td>\n      <td>103.669116</td>\n      <td>yes</td>\n      <td>yes</td>\n      <td>2.000000</td>\n      <td>2.977909</td>\n      <td>Sometimes</td>\n      <td>no</td>\n      <td>2.786417</td>\n      <td>no</td>\n      <td>0.094851</td>\n      <td>0.000000</td>\n      <td>Sometimes</td>\n      <td>Public_Transportation</td>\n    </tr>\n    <tr>\n      <th>4</th>\n      <td>20762</td>\n      <td>Female</td>\n      <td>26.000000</td>\n      <td>1.627396</td>\n      <td>104.835346</td>\n      <td>yes</td>\n      <td>yes</td>\n      <td>3.000000</td>\n      <td>3.000000</td>\n      <td>Sometimes</td>\n      <td>no</td>\n      <td>2.653531</td>\n      <td>no</td>\n      <td>0.000000</td>\n      <td>0.741069</td>\n      <td>Sometimes</td>\n      <td>Public_Transportation</td>\n    </tr>\n    <tr>\n      <th>...</th>\n      <td>...</td>\n      <td>...</td>\n      <td>...</td>\n      <td>...</td>\n      <td>...</td>\n      <td>...</td>\n      <td>...</td>\n      <td>...</td>\n      <td>...</td>\n      <td>...</td>\n      <td>...</td>\n      <td>...</td>\n      <td>...</td>\n      <td>...</td>\n      <td>...</td>\n      <td>...</td>\n      <td>...</td>\n    </tr>\n    <tr>\n      <th>13835</th>\n      <td>34593</td>\n      <td>Male</td>\n      <td>23.327836</td>\n      <td>1.721384</td>\n      <td>78.030383</td>\n      <td>yes</td>\n      <td>no</td>\n      <td>2.813234</td>\n      <td>3.000000</td>\n      <td>Sometimes</td>\n      <td>no</td>\n      <td>1.000000</td>\n      <td>no</td>\n      <td>0.807076</td>\n      <td>0.778632</td>\n      <td>Sometimes</td>\n      <td>Public_Transportation</td>\n    </tr>\n    <tr>\n      <th>13836</th>\n      <td>34594</td>\n      <td>Female</td>\n      <td>29.000000</td>\n      <td>1.590000</td>\n      <td>62.000000</td>\n      <td>no</td>\n      <td>yes</td>\n      <td>3.000000</td>\n      <td>3.000000</td>\n      <td>Sometimes</td>\n      <td>no</td>\n      <td>2.000000</td>\n      <td>no</td>\n      <td>0.000000</td>\n      <td>0.000000</td>\n      <td>Sometimes</td>\n      <td>Public_Transportation</td>\n    </tr>\n    <tr>\n      <th>13837</th>\n      <td>34595</td>\n      <td>Female</td>\n      <td>22.935612</td>\n      <td>1.585547</td>\n      <td>44.376637</td>\n      <td>no</td>\n      <td>yes</td>\n      <td>3.000000</td>\n      <td>2.273740</td>\n      <td>Frequently</td>\n      <td>no</td>\n      <td>2.000000</td>\n      <td>no</td>\n      <td>1.949840</td>\n      <td>1.000000</td>\n      <td>Sometimes</td>\n      <td>Public_Transportation</td>\n    </tr>\n    <tr>\n      <th>13838</th>\n      <td>34596</td>\n      <td>Male</td>\n      <td>21.000000</td>\n      <td>1.620000</td>\n      <td>53.000000</td>\n      <td>yes</td>\n      <td>yes</td>\n      <td>2.000000</td>\n      <td>3.000000</td>\n      <td>Sometimes</td>\n      <td>no</td>\n      <td>2.000000</td>\n      <td>no</td>\n      <td>3.000000</td>\n      <td>2.000000</td>\n      <td>no</td>\n      <td>Public_Transportation</td>\n    </tr>\n    <tr>\n      <th>13839</th>\n      <td>34597</td>\n      <td>Male</td>\n      <td>26.490926</td>\n      <td>1.812259</td>\n      <td>120.980508</td>\n      <td>yes</td>\n      <td>yes</td>\n      <td>2.744994</td>\n      <td>3.000000</td>\n      <td>Sometimes</td>\n      <td>no</td>\n      <td>2.205977</td>\n      <td>no</td>\n      <td>1.304291</td>\n      <td>0.630866</td>\n      <td>Sometimes</td>\n      <td>Public_Transportation</td>\n    </tr>\n  </tbody>\n</table>\n<p>13840 rows × 17 columns</p>\n</div>"
          },
          "metadata": {}
        }
      ],
      "execution_count": null
    },
    {
      "cell_type": "code",
      "source": [
        "obj=test.select_dtypes(include='object')\n",
        "num=test.select_dtypes(exclude='object')"
      ],
      "metadata": {
        "trusted": true,
        "execution": {
          "iopub.status.busy": "2024-12-18T19:43:20.446961Z",
          "iopub.execute_input": "2024-12-18T19:43:20.447331Z",
          "iopub.status.idle": "2024-12-18T19:43:20.454248Z",
          "shell.execute_reply.started": "2024-12-18T19:43:20.447297Z",
          "shell.execute_reply": "2024-12-18T19:43:20.453145Z"
        },
        "id": "s7NO8TgHr2k8"
      },
      "outputs": [],
      "execution_count": null
    },
    {
      "cell_type": "code",
      "source": [
        "for i in range(0,obj.shape[1]):\n",
        "    obj.iloc[:,i]=la.fit_transform(obj.iloc[:,i])"
      ],
      "metadata": {
        "trusted": true,
        "execution": {
          "iopub.status.busy": "2024-12-18T19:49:26.29057Z",
          "iopub.execute_input": "2024-12-18T19:49:26.290998Z",
          "iopub.status.idle": "2024-12-18T19:49:26.320438Z",
          "shell.execute_reply.started": "2024-12-18T19:49:26.290964Z",
          "shell.execute_reply": "2024-12-18T19:49:26.319205Z"
        },
        "id": "-kFrqzPbr2k8"
      },
      "outputs": [],
      "execution_count": null
    },
    {
      "cell_type": "code",
      "source": [
        "obj=obj.astype('int')"
      ],
      "metadata": {
        "trusted": true,
        "execution": {
          "iopub.status.busy": "2024-12-18T19:50:00.06186Z",
          "iopub.execute_input": "2024-12-18T19:50:00.062266Z",
          "iopub.status.idle": "2024-12-18T19:50:00.068298Z",
          "shell.execute_reply.started": "2024-12-18T19:50:00.062232Z",
          "shell.execute_reply": "2024-12-18T19:50:00.066975Z"
        },
        "id": "ZgOsj76Zr2k8"
      },
      "outputs": [],
      "execution_count": null
    },
    {
      "cell_type": "code",
      "source": [
        "test_data=pd.concat([obj,num],axis=1)"
      ],
      "metadata": {
        "trusted": true,
        "execution": {
          "iopub.status.busy": "2024-12-18T19:56:27.455401Z",
          "iopub.execute_input": "2024-12-18T19:56:27.456182Z",
          "iopub.status.idle": "2024-12-18T19:56:27.461454Z",
          "shell.execute_reply.started": "2024-12-18T19:56:27.456147Z",
          "shell.execute_reply": "2024-12-18T19:56:27.460446Z"
        },
        "id": "ebUfadEYr2k8"
      },
      "outputs": [],
      "execution_count": null
    },
    {
      "cell_type": "code",
      "source": [
        "test_data"
      ],
      "metadata": {
        "trusted": true,
        "execution": {
          "iopub.status.busy": "2024-12-18T19:56:29.954332Z",
          "iopub.execute_input": "2024-12-18T19:56:29.954739Z",
          "iopub.status.idle": "2024-12-18T19:56:29.974409Z",
          "shell.execute_reply.started": "2024-12-18T19:56:29.954703Z",
          "shell.execute_reply": "2024-12-18T19:56:29.973305Z"
        },
        "id": "SWFC-Awpr2k8",
        "outputId": "72efd058-08ae-4018-9618-305c34c1b8df"
      },
      "outputs": [
        {
          "execution_count": 57,
          "output_type": "execute_result",
          "data": {
            "text/plain": "       Gender  family_history_with_overweight  FAVC  CAEC  SMOKE  SCC  CALC  \\\n0           1                               1     1     2      0    0     2   \n1           0                               1     1     2      0    0     2   \n2           0                               1     1     2      0    0     2   \n3           1                               1     1     2      0    0     2   \n4           0                               1     1     2      0    0     2   \n...       ...                             ...   ...   ...    ...  ...   ...   \n13835       1                               1     0     2      0    0     2   \n13836       0                               0     1     2      0    0     2   \n13837       0                               0     1     1      0    0     2   \n13838       1                               1     1     2      0    0     3   \n13839       1                               1     1     2      0    0     2   \n\n       MTRANS     id        Age    Height      Weight      FCVC       NCP  \\\n0           3  20758  26.899886  1.848294  120.644178  2.938616  3.000000   \n1           3  20759  21.000000  1.600000   66.000000  2.000000  1.000000   \n2           3  20760  26.000000  1.643355  111.600553  3.000000  3.000000   \n3           3  20761  20.979254  1.553127  103.669116  2.000000  2.977909   \n4           3  20762  26.000000  1.627396  104.835346  3.000000  3.000000   \n...       ...    ...        ...       ...         ...       ...       ...   \n13835       3  34593  23.327836  1.721384   78.030383  2.813234  3.000000   \n13836       3  34594  29.000000  1.590000   62.000000  3.000000  3.000000   \n13837       3  34595  22.935612  1.585547   44.376637  3.000000  2.273740   \n13838       3  34596  21.000000  1.620000   53.000000  2.000000  3.000000   \n13839       3  34597  26.490926  1.812259  120.980508  2.744994  3.000000   \n\n           CH2O       FAF       TUE  \n0      2.825629  0.855400  0.000000  \n1      3.000000  1.000000  0.000000  \n2      2.621877  0.000000  0.250502  \n3      2.786417  0.094851  0.000000  \n4      2.653531  0.000000  0.741069  \n...         ...       ...       ...  \n13835  1.000000  0.807076  0.778632  \n13836  2.000000  0.000000  0.000000  \n13837  2.000000  1.949840  1.000000  \n13838  2.000000  3.000000  2.000000  \n13839  2.205977  1.304291  0.630866  \n\n[13840 rows x 17 columns]",
            "text/html": "<div>\n<style scoped>\n    .dataframe tbody tr th:only-of-type {\n        vertical-align: middle;\n    }\n\n    .dataframe tbody tr th {\n        vertical-align: top;\n    }\n\n    .dataframe thead th {\n        text-align: right;\n    }\n</style>\n<table border=\"1\" class=\"dataframe\">\n  <thead>\n    <tr style=\"text-align: right;\">\n      <th></th>\n      <th>Gender</th>\n      <th>family_history_with_overweight</th>\n      <th>FAVC</th>\n      <th>CAEC</th>\n      <th>SMOKE</th>\n      <th>SCC</th>\n      <th>CALC</th>\n      <th>MTRANS</th>\n      <th>id</th>\n      <th>Age</th>\n      <th>Height</th>\n      <th>Weight</th>\n      <th>FCVC</th>\n      <th>NCP</th>\n      <th>CH2O</th>\n      <th>FAF</th>\n      <th>TUE</th>\n    </tr>\n  </thead>\n  <tbody>\n    <tr>\n      <th>0</th>\n      <td>1</td>\n      <td>1</td>\n      <td>1</td>\n      <td>2</td>\n      <td>0</td>\n      <td>0</td>\n      <td>2</td>\n      <td>3</td>\n      <td>20758</td>\n      <td>26.899886</td>\n      <td>1.848294</td>\n      <td>120.644178</td>\n      <td>2.938616</td>\n      <td>3.000000</td>\n      <td>2.825629</td>\n      <td>0.855400</td>\n      <td>0.000000</td>\n    </tr>\n    <tr>\n      <th>1</th>\n      <td>0</td>\n      <td>1</td>\n      <td>1</td>\n      <td>2</td>\n      <td>0</td>\n      <td>0</td>\n      <td>2</td>\n      <td>3</td>\n      <td>20759</td>\n      <td>21.000000</td>\n      <td>1.600000</td>\n      <td>66.000000</td>\n      <td>2.000000</td>\n      <td>1.000000</td>\n      <td>3.000000</td>\n      <td>1.000000</td>\n      <td>0.000000</td>\n    </tr>\n    <tr>\n      <th>2</th>\n      <td>0</td>\n      <td>1</td>\n      <td>1</td>\n      <td>2</td>\n      <td>0</td>\n      <td>0</td>\n      <td>2</td>\n      <td>3</td>\n      <td>20760</td>\n      <td>26.000000</td>\n      <td>1.643355</td>\n      <td>111.600553</td>\n      <td>3.000000</td>\n      <td>3.000000</td>\n      <td>2.621877</td>\n      <td>0.000000</td>\n      <td>0.250502</td>\n    </tr>\n    <tr>\n      <th>3</th>\n      <td>1</td>\n      <td>1</td>\n      <td>1</td>\n      <td>2</td>\n      <td>0</td>\n      <td>0</td>\n      <td>2</td>\n      <td>3</td>\n      <td>20761</td>\n      <td>20.979254</td>\n      <td>1.553127</td>\n      <td>103.669116</td>\n      <td>2.000000</td>\n      <td>2.977909</td>\n      <td>2.786417</td>\n      <td>0.094851</td>\n      <td>0.000000</td>\n    </tr>\n    <tr>\n      <th>4</th>\n      <td>0</td>\n      <td>1</td>\n      <td>1</td>\n      <td>2</td>\n      <td>0</td>\n      <td>0</td>\n      <td>2</td>\n      <td>3</td>\n      <td>20762</td>\n      <td>26.000000</td>\n      <td>1.627396</td>\n      <td>104.835346</td>\n      <td>3.000000</td>\n      <td>3.000000</td>\n      <td>2.653531</td>\n      <td>0.000000</td>\n      <td>0.741069</td>\n    </tr>\n    <tr>\n      <th>...</th>\n      <td>...</td>\n      <td>...</td>\n      <td>...</td>\n      <td>...</td>\n      <td>...</td>\n      <td>...</td>\n      <td>...</td>\n      <td>...</td>\n      <td>...</td>\n      <td>...</td>\n      <td>...</td>\n      <td>...</td>\n      <td>...</td>\n      <td>...</td>\n      <td>...</td>\n      <td>...</td>\n      <td>...</td>\n    </tr>\n    <tr>\n      <th>13835</th>\n      <td>1</td>\n      <td>1</td>\n      <td>0</td>\n      <td>2</td>\n      <td>0</td>\n      <td>0</td>\n      <td>2</td>\n      <td>3</td>\n      <td>34593</td>\n      <td>23.327836</td>\n      <td>1.721384</td>\n      <td>78.030383</td>\n      <td>2.813234</td>\n      <td>3.000000</td>\n      <td>1.000000</td>\n      <td>0.807076</td>\n      <td>0.778632</td>\n    </tr>\n    <tr>\n      <th>13836</th>\n      <td>0</td>\n      <td>0</td>\n      <td>1</td>\n      <td>2</td>\n      <td>0</td>\n      <td>0</td>\n      <td>2</td>\n      <td>3</td>\n      <td>34594</td>\n      <td>29.000000</td>\n      <td>1.590000</td>\n      <td>62.000000</td>\n      <td>3.000000</td>\n      <td>3.000000</td>\n      <td>2.000000</td>\n      <td>0.000000</td>\n      <td>0.000000</td>\n    </tr>\n    <tr>\n      <th>13837</th>\n      <td>0</td>\n      <td>0</td>\n      <td>1</td>\n      <td>1</td>\n      <td>0</td>\n      <td>0</td>\n      <td>2</td>\n      <td>3</td>\n      <td>34595</td>\n      <td>22.935612</td>\n      <td>1.585547</td>\n      <td>44.376637</td>\n      <td>3.000000</td>\n      <td>2.273740</td>\n      <td>2.000000</td>\n      <td>1.949840</td>\n      <td>1.000000</td>\n    </tr>\n    <tr>\n      <th>13838</th>\n      <td>1</td>\n      <td>1</td>\n      <td>1</td>\n      <td>2</td>\n      <td>0</td>\n      <td>0</td>\n      <td>3</td>\n      <td>3</td>\n      <td>34596</td>\n      <td>21.000000</td>\n      <td>1.620000</td>\n      <td>53.000000</td>\n      <td>2.000000</td>\n      <td>3.000000</td>\n      <td>2.000000</td>\n      <td>3.000000</td>\n      <td>2.000000</td>\n    </tr>\n    <tr>\n      <th>13839</th>\n      <td>1</td>\n      <td>1</td>\n      <td>1</td>\n      <td>2</td>\n      <td>0</td>\n      <td>0</td>\n      <td>2</td>\n      <td>3</td>\n      <td>34597</td>\n      <td>26.490926</td>\n      <td>1.812259</td>\n      <td>120.980508</td>\n      <td>2.744994</td>\n      <td>3.000000</td>\n      <td>2.205977</td>\n      <td>1.304291</td>\n      <td>0.630866</td>\n    </tr>\n  </tbody>\n</table>\n<p>13840 rows × 17 columns</p>\n</div>"
          },
          "metadata": {}
        }
      ],
      "execution_count": null
    },
    {
      "cell_type": "code",
      "source": [
        "sc=StandardScaler"
      ],
      "metadata": {
        "trusted": true,
        "execution": {
          "iopub.status.busy": "2024-12-18T20:27:20.368302Z",
          "iopub.execute_input": "2024-12-18T20:27:20.368738Z",
          "iopub.status.idle": "2024-12-18T20:27:20.373787Z",
          "shell.execute_reply.started": "2024-12-18T20:27:20.368689Z",
          "shell.execute_reply": "2024-12-18T20:27:20.372584Z"
        },
        "id": "wFZs66szr2k9"
      },
      "outputs": [],
      "execution_count": null
    },
    {
      "cell_type": "code",
      "source": [
        "\n",
        "train_data['Age'] = sc.fit_transform(train_data[['Age']])\n",
        "train_data['Weight'] = sc.fit_transform(train_data[['Weight']])\n",
        "\n"
      ],
      "metadata": {
        "trusted": true,
        "execution": {
          "iopub.status.busy": "2024-12-18T20:32:42.645021Z",
          "iopub.execute_input": "2024-12-18T20:32:42.645415Z",
          "iopub.status.idle": "2024-12-18T20:32:42.659076Z",
          "shell.execute_reply.started": "2024-12-18T20:32:42.645376Z",
          "shell.execute_reply": "2024-12-18T20:32:42.657864Z"
        },
        "id": "JLkiqx-Fr2k9"
      },
      "outputs": [],
      "execution_count": null
    },
    {
      "cell_type": "code",
      "source": [
        "train_data"
      ],
      "metadata": {
        "trusted": true,
        "execution": {
          "iopub.status.busy": "2024-12-18T20:32:55.146452Z",
          "iopub.execute_input": "2024-12-18T20:32:55.146913Z",
          "iopub.status.idle": "2024-12-18T20:32:55.168411Z",
          "shell.execute_reply.started": "2024-12-18T20:32:55.146878Z",
          "shell.execute_reply": "2024-12-18T20:32:55.16722Z"
        },
        "id": "SKWOjzJer2k9",
        "outputId": "17c2875b-a478-45dc-8b66-fe4f49e3e58c"
      },
      "outputs": [
        {
          "execution_count": 67,
          "output_type": "execute_result",
          "data": {
            "text/plain": "       Gender  family_history_with_overweight  FAVC  CAEC  SMOKE  SCC  CALC  \\\n0           1                               1     1     2      0    0     1   \n1           0                               1     1     1      0    0     2   \n2           0                               1     1     2      0    0     2   \n3           0                               1     1     2      0    0     1   \n4           1                               1     1     2      0    0     1   \n...       ...                             ...   ...   ...    ...  ...   ...   \n20753       1                               1     1     2      0    0     1   \n20754       1                               0     1     1      0    0     1   \n20755       1                               1     1     2      0    0     2   \n20756       1                               1     1     2      0    0     2   \n20757       1                               1     1     2      0    0     1   \n\n       MTRANS  NObeyesdad     id       Age    Height    Weight      FCVC  \\\n0           3           6      0  0.105699  1.699998 -0.235713  2.000000   \n1           0           1      1 -1.027052  1.560000 -1.170931  2.000000   \n2           3           0      2 -1.027052  1.711460 -1.430012  1.880534   \n3           3           4      3 -0.507929  1.710730  1.644770  3.000000   \n4           3           6      4  1.371197  1.914186  0.224054  2.679664   \n...       ...         ...    ...       ...       ...       ...       ...   \n20753       3           3  20753  0.227725  1.766626  0.996987  2.919584   \n20754       3           0  20754 -1.027052  1.710000 -1.436296  3.000000   \n20755       3           3  20755 -0.657669  1.819557  0.670717  2.407817   \n20756       0           6  20756  1.760067  1.700000 -0.165574  2.671238   \n20757       3           3  20757  0.499051  1.816547  1.146645  3.000000   \n\n            NCP      CH2O       FAF       TUE  \n0      2.983297  2.763573  0.000000  0.976473  \n1      3.000000  2.000000  1.000000  1.000000  \n2      1.411685  1.910378  0.866045  1.673584  \n3      3.000000  1.674061  1.467863  0.780199  \n4      1.971472  1.979848  1.967973  0.931721  \n...         ...       ...       ...       ...  \n20753  3.000000  2.151809  1.330519  0.196680  \n20754  4.000000  1.000000  2.000000  1.000000  \n20755  3.000000  2.000000  1.158040  1.198439  \n20756  1.971472  2.144838  0.000000  0.973834  \n20757  3.000000  2.003563  0.684487  0.713823  \n\n[20758 rows x 18 columns]",
            "text/html": "<div>\n<style scoped>\n    .dataframe tbody tr th:only-of-type {\n        vertical-align: middle;\n    }\n\n    .dataframe tbody tr th {\n        vertical-align: top;\n    }\n\n    .dataframe thead th {\n        text-align: right;\n    }\n</style>\n<table border=\"1\" class=\"dataframe\">\n  <thead>\n    <tr style=\"text-align: right;\">\n      <th></th>\n      <th>Gender</th>\n      <th>family_history_with_overweight</th>\n      <th>FAVC</th>\n      <th>CAEC</th>\n      <th>SMOKE</th>\n      <th>SCC</th>\n      <th>CALC</th>\n      <th>MTRANS</th>\n      <th>NObeyesdad</th>\n      <th>id</th>\n      <th>Age</th>\n      <th>Height</th>\n      <th>Weight</th>\n      <th>FCVC</th>\n      <th>NCP</th>\n      <th>CH2O</th>\n      <th>FAF</th>\n      <th>TUE</th>\n    </tr>\n  </thead>\n  <tbody>\n    <tr>\n      <th>0</th>\n      <td>1</td>\n      <td>1</td>\n      <td>1</td>\n      <td>2</td>\n      <td>0</td>\n      <td>0</td>\n      <td>1</td>\n      <td>3</td>\n      <td>6</td>\n      <td>0</td>\n      <td>0.105699</td>\n      <td>1.699998</td>\n      <td>-0.235713</td>\n      <td>2.000000</td>\n      <td>2.983297</td>\n      <td>2.763573</td>\n      <td>0.000000</td>\n      <td>0.976473</td>\n    </tr>\n    <tr>\n      <th>1</th>\n      <td>0</td>\n      <td>1</td>\n      <td>1</td>\n      <td>1</td>\n      <td>0</td>\n      <td>0</td>\n      <td>2</td>\n      <td>0</td>\n      <td>1</td>\n      <td>1</td>\n      <td>-1.027052</td>\n      <td>1.560000</td>\n      <td>-1.170931</td>\n      <td>2.000000</td>\n      <td>3.000000</td>\n      <td>2.000000</td>\n      <td>1.000000</td>\n      <td>1.000000</td>\n    </tr>\n    <tr>\n      <th>2</th>\n      <td>0</td>\n      <td>1</td>\n      <td>1</td>\n      <td>2</td>\n      <td>0</td>\n      <td>0</td>\n      <td>2</td>\n      <td>3</td>\n      <td>0</td>\n      <td>2</td>\n      <td>-1.027052</td>\n      <td>1.711460</td>\n      <td>-1.430012</td>\n      <td>1.880534</td>\n      <td>1.411685</td>\n      <td>1.910378</td>\n      <td>0.866045</td>\n      <td>1.673584</td>\n    </tr>\n    <tr>\n      <th>3</th>\n      <td>0</td>\n      <td>1</td>\n      <td>1</td>\n      <td>2</td>\n      <td>0</td>\n      <td>0</td>\n      <td>1</td>\n      <td>3</td>\n      <td>4</td>\n      <td>3</td>\n      <td>-0.507929</td>\n      <td>1.710730</td>\n      <td>1.644770</td>\n      <td>3.000000</td>\n      <td>3.000000</td>\n      <td>1.674061</td>\n      <td>1.467863</td>\n      <td>0.780199</td>\n    </tr>\n    <tr>\n      <th>4</th>\n      <td>1</td>\n      <td>1</td>\n      <td>1</td>\n      <td>2</td>\n      <td>0</td>\n      <td>0</td>\n      <td>1</td>\n      <td>3</td>\n      <td>6</td>\n      <td>4</td>\n      <td>1.371197</td>\n      <td>1.914186</td>\n      <td>0.224054</td>\n      <td>2.679664</td>\n      <td>1.971472</td>\n      <td>1.979848</td>\n      <td>1.967973</td>\n      <td>0.931721</td>\n    </tr>\n    <tr>\n      <th>...</th>\n      <td>...</td>\n      <td>...</td>\n      <td>...</td>\n      <td>...</td>\n      <td>...</td>\n      <td>...</td>\n      <td>...</td>\n      <td>...</td>\n      <td>...</td>\n      <td>...</td>\n      <td>...</td>\n      <td>...</td>\n      <td>...</td>\n      <td>...</td>\n      <td>...</td>\n      <td>...</td>\n      <td>...</td>\n      <td>...</td>\n    </tr>\n    <tr>\n      <th>20753</th>\n      <td>1</td>\n      <td>1</td>\n      <td>1</td>\n      <td>2</td>\n      <td>0</td>\n      <td>0</td>\n      <td>1</td>\n      <td>3</td>\n      <td>3</td>\n      <td>20753</td>\n      <td>0.227725</td>\n      <td>1.766626</td>\n      <td>0.996987</td>\n      <td>2.919584</td>\n      <td>3.000000</td>\n      <td>2.151809</td>\n      <td>1.330519</td>\n      <td>0.196680</td>\n    </tr>\n    <tr>\n      <th>20754</th>\n      <td>1</td>\n      <td>0</td>\n      <td>1</td>\n      <td>1</td>\n      <td>0</td>\n      <td>0</td>\n      <td>1</td>\n      <td>3</td>\n      <td>0</td>\n      <td>20754</td>\n      <td>-1.027052</td>\n      <td>1.710000</td>\n      <td>-1.436296</td>\n      <td>3.000000</td>\n      <td>4.000000</td>\n      <td>1.000000</td>\n      <td>2.000000</td>\n      <td>1.000000</td>\n    </tr>\n    <tr>\n      <th>20755</th>\n      <td>1</td>\n      <td>1</td>\n      <td>1</td>\n      <td>2</td>\n      <td>0</td>\n      <td>0</td>\n      <td>2</td>\n      <td>3</td>\n      <td>3</td>\n      <td>20755</td>\n      <td>-0.657669</td>\n      <td>1.819557</td>\n      <td>0.670717</td>\n      <td>2.407817</td>\n      <td>3.000000</td>\n      <td>2.000000</td>\n      <td>1.158040</td>\n      <td>1.198439</td>\n    </tr>\n    <tr>\n      <th>20756</th>\n      <td>1</td>\n      <td>1</td>\n      <td>1</td>\n      <td>2</td>\n      <td>0</td>\n      <td>0</td>\n      <td>2</td>\n      <td>0</td>\n      <td>6</td>\n      <td>20756</td>\n      <td>1.760067</td>\n      <td>1.700000</td>\n      <td>-0.165574</td>\n      <td>2.671238</td>\n      <td>1.971472</td>\n      <td>2.144838</td>\n      <td>0.000000</td>\n      <td>0.973834</td>\n    </tr>\n    <tr>\n      <th>20757</th>\n      <td>1</td>\n      <td>1</td>\n      <td>1</td>\n      <td>2</td>\n      <td>0</td>\n      <td>0</td>\n      <td>1</td>\n      <td>3</td>\n      <td>3</td>\n      <td>20757</td>\n      <td>0.499051</td>\n      <td>1.816547</td>\n      <td>1.146645</td>\n      <td>3.000000</td>\n      <td>3.000000</td>\n      <td>2.003563</td>\n      <td>0.684487</td>\n      <td>0.713823</td>\n    </tr>\n  </tbody>\n</table>\n<p>20758 rows × 18 columns</p>\n</div>"
          },
          "metadata": {}
        }
      ],
      "execution_count": null
    },
    {
      "cell_type": "code",
      "source": [
        "\n",
        "test_data['Age'] = sc.fit_transform(test_data[['Age']])\n",
        "test_data['Weight'] = sc.fit_transform(test_data[['Weight']])"
      ],
      "metadata": {
        "trusted": true,
        "execution": {
          "iopub.status.busy": "2024-12-18T20:34:25.461094Z",
          "iopub.execute_input": "2024-12-18T20:34:25.461493Z",
          "iopub.status.idle": "2024-12-18T20:34:25.4761Z",
          "shell.execute_reply.started": "2024-12-18T20:34:25.461447Z",
          "shell.execute_reply": "2024-12-18T20:34:25.475046Z"
        },
        "id": "qRcCysSfr2k9"
      },
      "outputs": [],
      "execution_count": null
    },
    {
      "cell_type": "code",
      "source": [
        "x=train_data.drop('NObeyesdad',axis=1)\n",
        "y=train_data['NObeyesdad']"
      ],
      "metadata": {
        "trusted": true,
        "execution": {
          "iopub.status.busy": "2024-12-18T20:41:51.62069Z",
          "iopub.execute_input": "2024-12-18T20:41:51.621077Z",
          "iopub.status.idle": "2024-12-18T20:41:51.629371Z",
          "shell.execute_reply.started": "2024-12-18T20:41:51.621043Z",
          "shell.execute_reply": "2024-12-18T20:41:51.628285Z"
        },
        "id": "nBPHE4fWr2k9"
      },
      "outputs": [],
      "execution_count": null
    },
    {
      "cell_type": "code",
      "source": [
        "x_train,x_test,y_train,y_test=train_test_split(x,y,test_size=0.2,random_state=0)"
      ],
      "metadata": {
        "trusted": true,
        "execution": {
          "iopub.status.busy": "2024-12-18T20:44:03.476362Z",
          "iopub.execute_input": "2024-12-18T20:44:03.476761Z",
          "iopub.status.idle": "2024-12-18T20:44:03.49107Z",
          "shell.execute_reply.started": "2024-12-18T20:44:03.476727Z",
          "shell.execute_reply": "2024-12-18T20:44:03.4902Z"
        },
        "id": "fOOttRcSr2k9"
      },
      "outputs": [],
      "execution_count": null
    },
    {
      "cell_type": "code",
      "source": [
        "RF=RandomForestClassifier()\n",
        "svm=SVC()\n",
        "xgb=XGBClassifier()\n",
        "knn=KNeighborsClassifier()\n",
        "\n"
      ],
      "metadata": {
        "trusted": true,
        "execution": {
          "iopub.status.busy": "2024-12-18T20:58:51.637697Z",
          "iopub.execute_input": "2024-12-18T20:58:51.638336Z",
          "iopub.status.idle": "2024-12-18T20:58:51.64281Z",
          "shell.execute_reply.started": "2024-12-18T20:58:51.638302Z",
          "shell.execute_reply": "2024-12-18T20:58:51.641806Z"
        },
        "id": "mU6uX9Cfr2k9"
      },
      "outputs": [],
      "execution_count": null
    },
    {
      "cell_type": "code",
      "source": [
        "def models(model):\n",
        "    model.fit(x_train,y_train)\n",
        "    pre=model.predict(x_test)\n",
        "    print(classification_report(pre,y_test))"
      ],
      "metadata": {
        "trusted": true,
        "execution": {
          "iopub.status.busy": "2024-12-18T21:10:48.584599Z",
          "iopub.execute_input": "2024-12-18T21:10:48.58502Z",
          "iopub.status.idle": "2024-12-18T21:10:48.590568Z",
          "shell.execute_reply.started": "2024-12-18T21:10:48.584989Z",
          "shell.execute_reply": "2024-12-18T21:10:48.589477Z"
        },
        "id": "vJ-4Ma6Qr2k9"
      },
      "outputs": [],
      "execution_count": null
    },
    {
      "cell_type": "code",
      "source": [
        "models(xgb)"
      ],
      "metadata": {
        "trusted": true,
        "execution": {
          "iopub.status.busy": "2024-12-18T21:12:44.638173Z",
          "iopub.execute_input": "2024-12-18T21:12:44.63855Z",
          "iopub.status.idle": "2024-12-18T21:12:46.12934Z",
          "shell.execute_reply.started": "2024-12-18T21:12:44.638517Z",
          "shell.execute_reply": "2024-12-18T21:12:46.128651Z"
        },
        "id": "Mf9XSjK5r2k9",
        "outputId": "0146f7d6-eacd-4823-a013-7e5278ac2548"
      },
      "outputs": [
        {
          "name": "stdout",
          "text": "              precision    recall  f1-score   support\n\n           0       0.92      0.92      0.92       476\n           1       0.88      0.87      0.87       641\n           2       0.87      0.91      0.89       556\n           3       0.96      0.97      0.96       667\n           4       1.00      0.99      1.00       811\n           5       0.78      0.80      0.79       457\n           6       0.84      0.79      0.81       544\n\n    accuracy                           0.90      4152\n   macro avg       0.89      0.89      0.89      4152\nweighted avg       0.90      0.90      0.90      4152\n\n",
          "output_type": "stream"
        }
      ],
      "execution_count": null
    },
    {
      "cell_type": "code",
      "source": [
        "test_data"
      ],
      "metadata": {
        "trusted": true,
        "execution": {
          "iopub.status.busy": "2024-12-18T21:09:38.454826Z",
          "iopub.execute_input": "2024-12-18T21:09:38.455896Z",
          "iopub.status.idle": "2024-12-18T21:09:38.483144Z",
          "shell.execute_reply.started": "2024-12-18T21:09:38.455844Z",
          "shell.execute_reply": "2024-12-18T21:09:38.481328Z"
        },
        "id": "S53cG1lMr2k-",
        "outputId": "042a39f1-006f-456d-cd4f-e1c99b0a0df0"
      },
      "outputs": [
        {
          "execution_count": 87,
          "output_type": "execute_result",
          "data": {
            "text/plain": "       Gender  family_history_with_overweight  FAVC  CAEC  SMOKE  SCC  CALC  \\\n0           1                               1     1     2      0    0     2   \n1           0                               1     1     2      0    0     2   \n2           0                               1     1     2      0    0     2   \n3           1                               1     1     2      0    0     2   \n4           0                               1     1     2      0    0     2   \n...       ...                             ...   ...   ...    ...  ...   ...   \n13835       1                               1     0     2      0    0     2   \n13836       0                               0     1     2      0    0     2   \n13837       0                               0     1     1      0    0     2   \n13838       1                               1     1     2      0    0     3   \n13839       1                               1     1     2      0    0     2   \n\n       MTRANS     id       Age    Height    Weight      FCVC       NCP  \\\n0           3  20758  0.508163  1.848294  1.273786  2.938616  3.000000   \n1           3  20759 -0.509128  1.600000 -0.818988  2.000000  1.000000   \n2           3  20760  0.353000  1.643355  0.927432  3.000000  3.000000   \n3           3  20761 -0.512705  1.553127  0.623672  2.000000  2.977909   \n4           3  20762  0.353000  1.627396  0.668336  3.000000  3.000000   \n...       ...    ...       ...       ...       ...       ...       ...   \n13835       3  34593 -0.107749  1.721384 -0.358246  2.813234  3.000000   \n13836       3  34594  0.870277  1.590000 -0.972181  3.000000  3.000000   \n13837       3  34595 -0.175379  1.585547 -1.647125  3.000000  2.273740   \n13838       3  34596 -0.509128  1.620000 -1.316865  2.000000  3.000000   \n13839       3  34597  0.437648  1.812259  1.286667  2.744994  3.000000   \n\n           CH2O       FAF       TUE  \n0      2.825629  0.855400  0.000000  \n1      3.000000  1.000000  0.000000  \n2      2.621877  0.000000  0.250502  \n3      2.786417  0.094851  0.000000  \n4      2.653531  0.000000  0.741069  \n...         ...       ...       ...  \n13835  1.000000  0.807076  0.778632  \n13836  2.000000  0.000000  0.000000  \n13837  2.000000  1.949840  1.000000  \n13838  2.000000  3.000000  2.000000  \n13839  2.205977  1.304291  0.630866  \n\n[13840 rows x 17 columns]",
            "text/html": "<div>\n<style scoped>\n    .dataframe tbody tr th:only-of-type {\n        vertical-align: middle;\n    }\n\n    .dataframe tbody tr th {\n        vertical-align: top;\n    }\n\n    .dataframe thead th {\n        text-align: right;\n    }\n</style>\n<table border=\"1\" class=\"dataframe\">\n  <thead>\n    <tr style=\"text-align: right;\">\n      <th></th>\n      <th>Gender</th>\n      <th>family_history_with_overweight</th>\n      <th>FAVC</th>\n      <th>CAEC</th>\n      <th>SMOKE</th>\n      <th>SCC</th>\n      <th>CALC</th>\n      <th>MTRANS</th>\n      <th>id</th>\n      <th>Age</th>\n      <th>Height</th>\n      <th>Weight</th>\n      <th>FCVC</th>\n      <th>NCP</th>\n      <th>CH2O</th>\n      <th>FAF</th>\n      <th>TUE</th>\n    </tr>\n  </thead>\n  <tbody>\n    <tr>\n      <th>0</th>\n      <td>1</td>\n      <td>1</td>\n      <td>1</td>\n      <td>2</td>\n      <td>0</td>\n      <td>0</td>\n      <td>2</td>\n      <td>3</td>\n      <td>20758</td>\n      <td>0.508163</td>\n      <td>1.848294</td>\n      <td>1.273786</td>\n      <td>2.938616</td>\n      <td>3.000000</td>\n      <td>2.825629</td>\n      <td>0.855400</td>\n      <td>0.000000</td>\n    </tr>\n    <tr>\n      <th>1</th>\n      <td>0</td>\n      <td>1</td>\n      <td>1</td>\n      <td>2</td>\n      <td>0</td>\n      <td>0</td>\n      <td>2</td>\n      <td>3</td>\n      <td>20759</td>\n      <td>-0.509128</td>\n      <td>1.600000</td>\n      <td>-0.818988</td>\n      <td>2.000000</td>\n      <td>1.000000</td>\n      <td>3.000000</td>\n      <td>1.000000</td>\n      <td>0.000000</td>\n    </tr>\n    <tr>\n      <th>2</th>\n      <td>0</td>\n      <td>1</td>\n      <td>1</td>\n      <td>2</td>\n      <td>0</td>\n      <td>0</td>\n      <td>2</td>\n      <td>3</td>\n      <td>20760</td>\n      <td>0.353000</td>\n      <td>1.643355</td>\n      <td>0.927432</td>\n      <td>3.000000</td>\n      <td>3.000000</td>\n      <td>2.621877</td>\n      <td>0.000000</td>\n      <td>0.250502</td>\n    </tr>\n    <tr>\n      <th>3</th>\n      <td>1</td>\n      <td>1</td>\n      <td>1</td>\n      <td>2</td>\n      <td>0</td>\n      <td>0</td>\n      <td>2</td>\n      <td>3</td>\n      <td>20761</td>\n      <td>-0.512705</td>\n      <td>1.553127</td>\n      <td>0.623672</td>\n      <td>2.000000</td>\n      <td>2.977909</td>\n      <td>2.786417</td>\n      <td>0.094851</td>\n      <td>0.000000</td>\n    </tr>\n    <tr>\n      <th>4</th>\n      <td>0</td>\n      <td>1</td>\n      <td>1</td>\n      <td>2</td>\n      <td>0</td>\n      <td>0</td>\n      <td>2</td>\n      <td>3</td>\n      <td>20762</td>\n      <td>0.353000</td>\n      <td>1.627396</td>\n      <td>0.668336</td>\n      <td>3.000000</td>\n      <td>3.000000</td>\n      <td>2.653531</td>\n      <td>0.000000</td>\n      <td>0.741069</td>\n    </tr>\n    <tr>\n      <th>...</th>\n      <td>...</td>\n      <td>...</td>\n      <td>...</td>\n      <td>...</td>\n      <td>...</td>\n      <td>...</td>\n      <td>...</td>\n      <td>...</td>\n      <td>...</td>\n      <td>...</td>\n      <td>...</td>\n      <td>...</td>\n      <td>...</td>\n      <td>...</td>\n      <td>...</td>\n      <td>...</td>\n      <td>...</td>\n    </tr>\n    <tr>\n      <th>13835</th>\n      <td>1</td>\n      <td>1</td>\n      <td>0</td>\n      <td>2</td>\n      <td>0</td>\n      <td>0</td>\n      <td>2</td>\n      <td>3</td>\n      <td>34593</td>\n      <td>-0.107749</td>\n      <td>1.721384</td>\n      <td>-0.358246</td>\n      <td>2.813234</td>\n      <td>3.000000</td>\n      <td>1.000000</td>\n      <td>0.807076</td>\n      <td>0.778632</td>\n    </tr>\n    <tr>\n      <th>13836</th>\n      <td>0</td>\n      <td>0</td>\n      <td>1</td>\n      <td>2</td>\n      <td>0</td>\n      <td>0</td>\n      <td>2</td>\n      <td>3</td>\n      <td>34594</td>\n      <td>0.870277</td>\n      <td>1.590000</td>\n      <td>-0.972181</td>\n      <td>3.000000</td>\n      <td>3.000000</td>\n      <td>2.000000</td>\n      <td>0.000000</td>\n      <td>0.000000</td>\n    </tr>\n    <tr>\n      <th>13837</th>\n      <td>0</td>\n      <td>0</td>\n      <td>1</td>\n      <td>1</td>\n      <td>0</td>\n      <td>0</td>\n      <td>2</td>\n      <td>3</td>\n      <td>34595</td>\n      <td>-0.175379</td>\n      <td>1.585547</td>\n      <td>-1.647125</td>\n      <td>3.000000</td>\n      <td>2.273740</td>\n      <td>2.000000</td>\n      <td>1.949840</td>\n      <td>1.000000</td>\n    </tr>\n    <tr>\n      <th>13838</th>\n      <td>1</td>\n      <td>1</td>\n      <td>1</td>\n      <td>2</td>\n      <td>0</td>\n      <td>0</td>\n      <td>3</td>\n      <td>3</td>\n      <td>34596</td>\n      <td>-0.509128</td>\n      <td>1.620000</td>\n      <td>-1.316865</td>\n      <td>2.000000</td>\n      <td>3.000000</td>\n      <td>2.000000</td>\n      <td>3.000000</td>\n      <td>2.000000</td>\n    </tr>\n    <tr>\n      <th>13839</th>\n      <td>1</td>\n      <td>1</td>\n      <td>1</td>\n      <td>2</td>\n      <td>0</td>\n      <td>0</td>\n      <td>2</td>\n      <td>3</td>\n      <td>34597</td>\n      <td>0.437648</td>\n      <td>1.812259</td>\n      <td>1.286667</td>\n      <td>2.744994</td>\n      <td>3.000000</td>\n      <td>2.205977</td>\n      <td>1.304291</td>\n      <td>0.630866</td>\n    </tr>\n  </tbody>\n</table>\n<p>13840 rows × 17 columns</p>\n</div>"
          },
          "metadata": {}
        }
      ],
      "execution_count": null
    },
    {
      "cell_type": "code",
      "source": [
        "pre_test=xgb.predict(test_data)"
      ],
      "metadata": {
        "trusted": true,
        "execution": {
          "iopub.status.busy": "2024-12-18T21:23:37.494747Z",
          "iopub.execute_input": "2024-12-18T21:23:37.495116Z",
          "iopub.status.idle": "2024-12-18T21:23:37.598369Z",
          "shell.execute_reply.started": "2024-12-18T21:23:37.495086Z",
          "shell.execute_reply": "2024-12-18T21:23:37.597563Z"
        },
        "id": "ZfcqMBaRr2lB"
      },
      "outputs": [],
      "execution_count": null
    },
    {
      "cell_type": "code",
      "source": [
        "submation=pd.DataFrame({\"id\":test_data['id'],\"NObeyesdad\":pre_test})"
      ],
      "metadata": {
        "trusted": true,
        "execution": {
          "iopub.status.busy": "2024-12-18T21:23:34.332972Z",
          "iopub.execute_input": "2024-12-18T21:23:34.33377Z",
          "iopub.status.idle": "2024-12-18T21:23:34.338857Z",
          "shell.execute_reply.started": "2024-12-18T21:23:34.333737Z",
          "shell.execute_reply": "2024-12-18T21:23:34.337857Z"
        },
        "id": "lmx4S6Mmr2lB"
      },
      "outputs": [],
      "execution_count": null
    }
  ]
}